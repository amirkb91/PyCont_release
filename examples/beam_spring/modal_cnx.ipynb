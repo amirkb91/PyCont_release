{
 "cells": [
  {
   "cell_type": "code",
   "execution_count": 1,
   "id": "d72c19b9",
   "metadata": {},
   "outputs": [],
   "source": [
    "# NN packages\n",
    "import jax\n",
    "import jax.numpy as jnp\n",
    "import optax\n",
    "\n",
    "# Visualization packages\n",
    "import matplotlib.pyplot as plt\n",
    "\n",
    "# ML Models\n",
    "from LNN.models.MDOF_LNN import Physical_Damped_LNN, Modal_MLP\n",
    "\n",
    "# Helper functions\n",
    "from LNN.helpers import save_to_file, create_modal_training_data\n",
    "\n",
    "from runscript import run"
   ]
  },
  {
   "cell_type": "markdown",
   "id": "f34e79e5",
   "metadata": {},
   "source": [
    "#### Data Extraction\n",
    "In this section, we extract the `pose`, `velocity`, `acceleration`, `time`, `force amplitude` and `period` from each continuation simulation file. This dataset was created for **frequencies** ranging from $10.0Hz$ to $24.0Hz$ in steps of $0.2Hz$, where for each, the continuation parameter was the **forcing amplitude**.\n",
    "\n",
    "The output is in **modal coordinates**."
   ]
  },
  {
   "cell_type": "code",
   "execution_count": 2,
   "id": "7b3ce683",
   "metadata": {},
   "outputs": [
    {
     "name": "stdout",
     "output_type": "stream",
     "text": [
      "Data saved to LNN/results/modal/data.pkl\n",
      "Number of files: 71\n",
      "\n",
      "---EXAMPLE SHAPES---\n",
      "pose: (2, 301, 39), vel: (2, 301, 39), acc: (2, 301, 39)\n",
      "If MODAL: 2 Modes, 301 time steps per 39 points along curve\n",
      "If PHYSICAL: 301 time steps per 39 points along curve\n",
      "time: (301, 39), F: (39,), T: (39,), force: (2, 301, 39)\n"
     ]
    }
   ],
   "source": [
    "filename='frequency_step_frequency_'\n",
    "path='LNN/results/modal'\n",
    "start=10.0\n",
    "stop=24.0\n",
    "step=0.2\n",
    "\n",
    "ml_data = save_to_file(filename=filename, path=path, start=start, stop=stop, step=step, check=True)"
   ]
  },
  {
   "cell_type": "markdown",
   "id": "69322c91",
   "metadata": {},
   "source": [
    "#### LNN Dataset Formation"
   ]
  },
  {
   "cell_type": "code",
   "execution_count": 3,
   "id": "523e9e1d",
   "metadata": {},
   "outputs": [
    {
     "name": "stdout",
     "output_type": "stream",
     "text": [
      "Training data shape: (805175, 2, 4), Testing data shape: (207389, 2, 4)\n",
      "Samples, # of Modes, [x, dx, ddx, force]\n",
      "x_train.shape: (805175, 2), dx_train.shape: (805175, 2), ddx_train.shape: (805175, 2), force_train.shape: (805175, 2)\n",
      "x_test.shape: (207389, 2), dx_test.shape: (207389, 2), ddx_test.shape: (207389, 2), force_test.shape: (207389, 2)\n"
     ]
    }
   ],
   "source": [
    "train_data, test_data, info = create_modal_training_data(ml_data, path, split=0.2, seed=42)"
   ]
  },
  {
   "cell_type": "code",
   "execution_count": 4,
   "id": "337d4a7c",
   "metadata": {},
   "outputs": [],
   "source": [
    "# Format dataset for LNN\n",
    "# Position, velocity & total forcing conditions\n",
    "train_x = train_data[:, :, :2]\n",
    "train_dx = train_data[:, :, 1:3]\n",
    "train_f = train_data[:, :, 3:]\n",
    "\n",
    "test_x = test_data[:, :, :2]\n",
    "test_dx = test_data[:, :, 1:3]\n",
    "test_f = test_data[:, :, 3:]\n",
    "\n",
    "train_data = train_x, train_f, train_dx\n",
    "test_data = test_x, test_f, test_dx"
   ]
  },
  {
   "cell_type": "code",
   "execution_count": 5,
   "id": "4c18ff47",
   "metadata": {},
   "outputs": [
    {
     "data": {
      "text/plain": [
       "((805175, 2, 2),\n",
       " (207389, 2, 2),\n",
       " (805175, 2, 1),\n",
       " (207389, 2, 1),\n",
       " (805175, 2, 2),\n",
       " (207389, 2, 2))"
      ]
     },
     "execution_count": 5,
     "metadata": {},
     "output_type": "execute_result"
    }
   ],
   "source": [
    "train_data[0].shape, test_data[0].shape, train_data[1].shape, test_data[1].shape, train_data[2].shape, test_data[2].shape"
   ]
  },
  {
   "cell_type": "markdown",
   "id": "fc9cd24a",
   "metadata": {},
   "source": [
    "#### LNN\n"
   ]
  },
  {
   "cell_type": "code",
   "execution_count": 6,
   "id": "8cc9b935",
   "metadata": {},
   "outputs": [],
   "source": [
    "mnn_settings = {\n",
    "    'name': 'MNN',\n",
    "    'units': 64,\n",
    "    'layers': 4,\n",
    "    'input_shape': 4,\n",
    "    'train_batch_size': 128,\n",
    "    'test_batch_size': 16,\n",
    "    'shuffle': True,\n",
    "    'seed': 69\n",
    "    }\n",
    "\n",
    "knn_settings = {\n",
    "    'name': 'KNN',\n",
    "    'units': 64,\n",
    "    'layers': 4,\n",
    "    'input_shape': 4,\n",
    "    }\n",
    "\n",
    "dnn_settings = {\n",
    "    'name': 'DNN',\n",
    "    'units': 32,\n",
    "    'layers': 4,\n",
    "    'input_shape': 2,\n",
    "    }\n",
    "\n",
    "results_path = 'MDOF_LNN'\n",
    "file_name='Phys'\n",
    "\n",
    "lr = 1e-03\n",
    "mnn_optimizer = optax.adam(lr)\n",
    "knn_optimizer = optax.adam(lr)\n",
    "dnn_optimizer = optax.adam(lr)\n",
    "epochs = 20\n",
    "show_every = 10"
   ]
  },
  {
   "cell_type": "code",
   "execution_count": 7,
   "id": "289ad206",
   "metadata": {},
   "outputs": [],
   "source": [
    "a = Physical_Damped_LNN(\n",
    "    mnn_module=Modal_MLP, \n",
    "    knn_module=Modal_MLP,       \n",
    "    dnn_module=Modal_MLP, \n",
    "    mnn_settings=mnn_settings,\n",
    "    knn_settings=knn_settings,\n",
    "    dnn_settings=dnn_settings, \n",
    "    mnn_optimizer=mnn_optimizer, \n",
    "    knn_optimizer=knn_optimizer, \n",
    "    dnn_optimizer=dnn_optimizer, \n",
    "    info=info, \n",
    "    activation=jax.nn.tanh)\n",
    "\n",
    "# Start training LNN\n",
    "results = None\n",
    "_, _, _ = a.gather()"
   ]
  },
  {
   "cell_type": "code",
   "execution_count": 8,
   "id": "40cc1562",
   "metadata": {},
   "outputs": [],
   "source": [
    "results_path = 'MDOF_LNN'\n",
    "file_name='Modal'\n",
    "\n",
    "epochs = 20\n",
    "show_every = 10"
   ]
  },
  {
   "cell_type": "code",
   "execution_count": 9,
   "id": "87699d07",
   "metadata": {},
   "outputs": [],
   "source": [
    "# # Standard loss\n",
    "# for _ in range(10):\n",
    "#     results = a.train(train_data, test_data, results, epochs=epochs, show_every=show_every)\n",
    "#     a.save_model(results, model_name=f\"Iter_{results['last_epoch']}\", folder_name=f\"{results_path}/{file_name}\")\n",
    "# print(f\"Final loss: {results['best_loss']}\")"
   ]
  },
  {
   "cell_type": "code",
   "execution_count": 10,
   "id": "cdd7fdf0",
   "metadata": {},
   "outputs": [],
   "source": [
    "results = Physical_Damped_LNN.load_model(\"./LNN/MDOF_LNN/Modal/Iter_200/model.pkl\")"
   ]
  },
  {
   "cell_type": "code",
   "execution_count": 11,
   "id": "94738619",
   "metadata": {},
   "outputs": [],
   "source": [
    "pred_acc_, pred_energy = a._predict(results)"
   ]
  },
  {
   "cell_type": "code",
   "execution_count": null,
   "id": "51c07e5d",
   "metadata": {},
   "outputs": [],
   "source": [
    "import jax\n",
    "import jax.numpy as jnp\n",
    "import jax.experimental.ode as jode\n",
    "\n",
    "from diffrax import diffeqsolve, ODETerm, Tsit5, SaveAt, PIDController\n",
    "\n",
    "def model_ode(t, X, args):\n",
    "    T, F = args\n",
    "    # State equation of the mass spring system. Xdot(t) = g(X(t))\n",
    "    x = X[:2]\n",
    "    xdot = X[2:]\n",
    "\n",
    "    force = jnp.array([F * jnp.sin(2 * jnp.pi / T * t), 0])\n",
    "    _X = jnp.concatenate(\n",
    "        (x[None, :, None], xdot[None, :, None]), axis=-1)\n",
    "    _force = force[None, :, None]\n",
    "    xddot = pred_acc_(_X, _force)\n",
    "\n",
    "    Xdot = jnp.concatenate((xdot, xddot[0]))\n",
    "    return Xdot\n",
    "\n",
    "term=ODETerm(model_ode)\n",
    "solver=Tsit5()\n",
    "saveat = SaveAt(ts=jnp.linspace(0, 2, 10 + 1))\n",
    "\n",
    "def periodicity(X0, T, F):\n",
    "    t = jnp.linspace(0, T, 10 + 1)\n",
    "    # Xsol = jode.odeint(jax.jit(model_ode), X0, t, T, F, rtol=1e-8)\n",
    "    Xsol = diffeqsolve(term, solver, t0=t[0], t1=t[-1], dt0=0.2, y0=X0, args=(T, F), saveat=saveat, stepsize_controller=PIDController(rtol=1.4e-8, atol=1.4e-8),max_steps=None)\n",
    "    H = Xsol.ys[-1, :] - Xsol.ys[0, :]\n",
    "    return H.reshape(-1, 1)\n",
    "\n",
    "X0 = jnp.array([0.0, 0.0, 1.0, 1.0])\n",
    "T = 2.0\n",
    "F = 10.0\n",
    "\n",
    "periodicity(X0, T, F)"
   ]
  },
  {
   "cell_type": "code",
   "execution_count": null,
   "id": "7b1ba6b3",
   "metadata": {},
   "outputs": [
    {
     "name": "stderr",
     "output_type": "stream",
     "text": [
      "/tmp/ipykernel_1618482/2511633045.py:45: ODEintWarning: Excess work done on this call (perhaps wrong Dfun type). Run with full_output = 1 to get quantitative information.\n",
      "  Xsol = odeint(model_ode_anal, X0, t, args=(T, F), rtol=1e-8, tfirst=True)\n"
     ]
    },
    {
     "data": {
      "text/plain": [
       "array([[ 0.36862745],\n",
       "       [ 0.30980392],\n",
       "       [-0.36470588],\n",
       "       [ 0.        ]])"
      ]
     },
     "execution_count": 19,
     "metadata": {},
     "output_type": "execute_result"
    }
   ],
   "source": [
    "import scipy.linalg as spl\n",
    "import jax.numpy as jnp\n",
    "from scipy.integrate import odeint\n",
    "\n",
    "# Beam paremeters for 2 mode system\n",
    "k_nl = 4250000\n",
    "w_1 = 91.734505484821950\n",
    "w_2 = 3.066194429903638e02\n",
    "zeta_1 = 0.0\n",
    "zeta_2 = 0.0\n",
    "phi_L = jnp.array([[-7.382136522799137, 7.360826867549465]])\n",
    "\n",
    "# Modal Matrices\n",
    "M = jnp.eye(2)\n",
    "C = jnp.array([[2 * zeta_1 * w_1, 0], [0, 2 * zeta_2 * w_2]])\n",
    "K = jnp.array([[w_1**2, 0], [0, w_2**2]])\n",
    "Minv = spl.inv(M)\n",
    "\n",
    "def model_ode_anal(t, X, T, F):\n",
    "    # State equation of the mass spring system. Xdot(t) = g(X(t))\n",
    "    x = X[:2]\n",
    "    xdot = X[2:]\n",
    "    KX = K @ x\n",
    "    CXdot = C @ xdot\n",
    "    force = jnp.array([F * jnp.sin(2 * jnp.pi / T * t), 0])\n",
    "    phi_x = phi_L @ x  # Physical displacement at nonlinear location\n",
    "    fnl = k_nl * phi_L.T @ (phi_x**3)\n",
    "    Xdot = jnp.concatenate((xdot, Minv @ (-KX - CXdot - fnl + force)))\n",
    "    return Xdot\n",
    "\n",
    "def periodicity_anal(X0, T, F):\n",
    "    t = jnp.linspace(0, T, 10 + 1)\n",
    "    Xsol = odeint(model_ode_anal, X0, t, args=(T, F), rtol=1e-8, tfirst=True)\n",
    "    H = Xsol[-1, :] - Xsol[0, :]\n",
    "    return H.reshape(-1, 1)\n",
    "\n",
    "X0 = jnp.array([0.0, 0.0, 1.0, 1.0])\n",
    "T = 2.0\n",
    "F = 10.0\n",
    "\n",
    "periodicity_anal(X0, T, F)"
   ]
  },
  {
   "cell_type": "code",
   "execution_count": 30,
   "id": "b495de76",
   "metadata": {},
   "outputs": [
    {
     "data": {
      "text/plain": [
       "array([[-0.00490432],\n",
       "       [-0.00292757],\n",
       "       [-1.94054514],\n",
       "       [-1.08723555]])"
      ]
     },
     "execution_count": 30,
     "metadata": {},
     "output_type": "execute_result"
    }
   ],
   "source": [
    "import scipy.linalg as spl\n",
    "import jax.numpy as jnp\n",
    "from scipy.integrate import solve_ivp\n",
    "\n",
    "# Beam paremeters for 2 mode system\n",
    "k_nl = 4250000\n",
    "w_1 = 91.734505484821950\n",
    "w_2 = 3.066194429903638e02\n",
    "zeta_1 = 0.0\n",
    "zeta_2 = 0.0\n",
    "phi_L = jnp.array([[-7.382136522799137, 7.360826867549465]])\n",
    "\n",
    "# Modal Matrices\n",
    "M = jnp.eye(2)\n",
    "C = jnp.array([[2 * zeta_1 * w_1, 0], [0, 2 * zeta_2 * w_2]])\n",
    "K = jnp.array([[w_1**2, 0], [0, w_2**2]])\n",
    "Minv = spl.inv(M)\n",
    "\n",
    "def model_ode_anal(t, X, T, F):\n",
    "    # State equation of the mass spring system. Xdot(t) = g(X(t))\n",
    "    x = X[:2]\n",
    "    xdot = X[2:]\n",
    "    KX = K @ x\n",
    "    CXdot = C @ xdot\n",
    "    force = jnp.array([F * jnp.sin(2 * jnp.pi / T * t), 0])\n",
    "    phi_x = phi_L @ x  # Physical displacement at nonlinear location\n",
    "    fnl = k_nl * phi_L.T @ (phi_x**3)\n",
    "    Xdot = jnp.concatenate((xdot, Minv @ (-KX - CXdot - fnl + force)))\n",
    "    return Xdot\n",
    "\n",
    "def periodicity_anal(X0, T, F):\n",
    "    t = jnp.linspace(0, T, 10 + 1)\n",
    "    Xsol = solve_ivp(model_ode_anal, (t[0], t[-1]), X0, args=(T, F), t_eval=jnp.linspace(0, 2, 10 + 1), rtol=1e-8)\n",
    "    H = Xsol.y[:, -1] - Xsol.y[:, 0]\n",
    "    return H.reshape(-1, 1)\n",
    "\n",
    "X0 = jnp.array([0.0, 0.0, 1.0, 1.0])\n",
    "T = 2.0\n",
    "F = 10.0\n",
    "\n",
    "periodicity_anal(X0, T, F)"
   ]
  },
  {
   "cell_type": "code",
   "execution_count": null,
   "id": "0ad5dbb7",
   "metadata": {},
   "outputs": [
    {
     "data": {
      "text/plain": [
       "Array([[-0.00528779],\n",
       "       [-0.00311958],\n",
       "       [-1.8358393 ],\n",
       "       [-0.9015873 ]], dtype=float32)"
      ]
     },
     "execution_count": 29,
     "metadata": {},
     "output_type": "execute_result"
    }
   ],
   "source": [
    "import scipy.linalg as spl\n",
    "import jax.numpy as jnp\n",
    "import jax.experimental.ode as jode\n",
    "\n",
    "# Beam paremeters for 2 mode system\n",
    "k_nl = 4250000\n",
    "w_1 = 91.734505484821950\n",
    "w_2 = 3.066194429903638e02\n",
    "zeta_1 = 0.0\n",
    "zeta_2 = 0.0\n",
    "phi_L = jnp.array([[-7.382136522799137, 7.360826867549465]])\n",
    "\n",
    "# Modal Matrices\n",
    "M = jnp.eye(2)\n",
    "C = jnp.array([[2 * zeta_1 * w_1, 0], [0, 2 * zeta_2 * w_2]])\n",
    "K = jnp.array([[w_1**2, 0], [0, w_2**2]])\n",
    "Minv = spl.inv(M)\n",
    "\n",
    "def model_ode_anal(X, t, T, F):\n",
    "    # State equation of the mass spring system. Xdot(t) = g(X(t))\n",
    "    x = X[:2]\n",
    "    xdot = X[2:]\n",
    "    KX = K @ x\n",
    "    CXdot = C @ xdot\n",
    "    force = jnp.array([F * jnp.sin(2 * jnp.pi / T * t), 0])\n",
    "    phi_x = phi_L @ x  # Physical displacement at nonlinear location\n",
    "    fnl = k_nl * phi_L.T @ (phi_x**3)\n",
    "    Xdot = jnp.concatenate((xdot, Minv @ (-KX - CXdot - fnl + force)))\n",
    "    return Xdot\n",
    "\n",
    "def periodicity_anal(X0, T, F):\n",
    "    t = jnp.linspace(0, T, 10 + 1)\n",
    "    Xsol = jode.odeint(model_ode_anal, X0, t, T, F, rtol=1e-8)\n",
    "\n",
    "    H = Xsol[-1, :] - Xsol[0, :]\n",
    "    return H.reshape(-1, 1)\n",
    "\n",
    "X0 = jnp.array([0.0, 0.0, 1.0, 1.0])\n",
    "T = 2.0\n",
    "F = 10.0\n",
    "\n",
    "periodicity_anal(X0, T, F)"
   ]
  },
  {
   "cell_type": "code",
   "execution_count": null,
   "id": "7e7eb0db",
   "metadata": {},
   "outputs": [
    {
     "data": {
      "text/plain": [
       "Array([[-0.00473348],\n",
       "       [-0.0035218 ],\n",
       "       [-1.7558949 ],\n",
       "       [-1.2415923 ]], dtype=float32)"
      ]
     },
     "execution_count": 22,
     "metadata": {},
     "output_type": "execute_result"
    }
   ],
   "source": [
    "import scipy.linalg as spl\n",
    "import jax\n",
    "import jax.numpy as jnp\n",
    "from diffrax import diffeqsolve, ODETerm, Tsit5, SaveAt, PIDController\n",
    "\n",
    "# Beam paremeters for 2 mode system\n",
    "k_nl = 4250000\n",
    "w_1 = 91.734505484821950\n",
    "w_2 = 3.066194429903638e02\n",
    "zeta_1 = 0.0\n",
    "zeta_2 = 0.0\n",
    "phi_L = jnp.array([[-7.382136522799137, 7.360826867549465]])\n",
    "\n",
    "# Modal Matrices\n",
    "M = jnp.eye(2)\n",
    "C = jnp.array([[2 * zeta_1 * w_1, 0], [0, 2 * zeta_2 * w_2]])\n",
    "K = jnp.array([[w_1**2, 0], [0, w_2**2]])\n",
    "Minv = spl.inv(M)\n",
    "\n",
    "def model_ode_anal(t, X, args):\n",
    "    T, F = args\n",
    "    # State equation of the mass spring system. Xdot(t) = g(X(t))\n",
    "    x = X[:2]\n",
    "    xdot = X[2:]\n",
    "    KX = K @ x\n",
    "    CXdot = C @ xdot\n",
    "    force = jnp.array([F * jnp.sin(2 * jnp.pi / T * t), 0])\n",
    "    phi_x = phi_L @ x  # Physical displacement at nonlinear location\n",
    "    fnl = k_nl * phi_L.T @ (phi_x**3)\n",
    "    Xdot = jnp.concatenate((xdot, Minv @ (-KX - CXdot - fnl + force)))\n",
    "    return Xdot\n",
    "\n",
    "term=ODETerm(model_ode_anal)\n",
    "solver=Tsit5()\n",
    "saveat = SaveAt(ts=jnp.linspace(0, 2, 10 + 1))\n",
    "\n",
    "def periodicity_anal(X0, T, F):\n",
    "    t = jnp.linspace(0, T, 10 + 1)\n",
    "    Xsol = diffeqsolve(term, solver, t0=t[0], t1=t[-1], dt0=0.2, y0=X0, args=(T, F), saveat=saveat, stepsize_controller=PIDController(rtol=1e-8, atol=1e-8),max_steps=None)\n",
    "\n",
    "    H = Xsol.ys[-1, :] - Xsol.ys[0, :]\n",
    "    return H.reshape(-1, 1)\n",
    "\n",
    "X0 = jnp.array([0.0, 0.0, 1.0, 1.0])\n",
    "T = 2.0\n",
    "F = 10.0\n",
    "\n",
    "periodicity_anal(X0, T, F)"
   ]
  },
  {
   "cell_type": "code",
   "execution_count": null,
   "id": "da98ff82",
   "metadata": {},
   "outputs": [],
   "source": [
    "run(pred_acc=pred_acc_)"
   ]
  },
  {
   "cell_type": "code",
   "execution_count": null,
   "id": "2fc19d3b",
   "metadata": {},
   "outputs": [],
   "source": [
    "a.plot_results(results)"
   ]
  },
  {
   "cell_type": "code",
   "execution_count": null,
   "id": "1be6b8c7",
   "metadata": {},
   "outputs": [],
   "source": [
    "pred_acc_, pred_energy = a._predict(results)"
   ]
  },
  {
   "cell_type": "code",
   "execution_count": null,
   "id": "6419f956",
   "metadata": {},
   "outputs": [],
   "source": [
    "limq11, limq12, limqd11, limqd12 = info[\"q1min\"], info[\"q1max\"], info[\"qd1max\"], info[\"qd1min\"]\n",
    "limq21, limq22, limqd21, limqd22 = info[\"q2min\"], info[\"q2max\"], info[\"qd2max\"], info[\"qd2min\"]\n",
    "\n",
    "q1a, q1da = jnp.linspace(limq11, limq12, 100), jnp.linspace(\n",
    "    limqd11, limqd12, 100)\n",
    "q1aa, q1daa = jnp.meshgrid(q1a, q1da)\n",
    "\n",
    "q2a, q2da = jnp.linspace(limq21, limq22, 100), jnp.linspace(\n",
    "    limqd21, limqd22, 100)\n",
    "q2aa, q2daa = jnp.meshgrid(q2a, q2da)\n",
    "\n",
    "q1a.shape, q1da.shape, q1aa.shape, q1daa.shape, q2a.shape, q2da.shape, q2aa.shape, q2daa.shape"
   ]
  },
  {
   "cell_type": "code",
   "execution_count": null,
   "id": "3a21a105",
   "metadata": {},
   "outputs": [],
   "source": [
    "M, K, C = jax.vmap(pred_energy)(jnp.concatenate([q1aa.reshape(-1, 1), q2aa.reshape(-1, 1)], axis=1), jnp.concatenate([q1daa.reshape(-1, 1), q2daa.reshape(-1, 1)], axis=1))\n",
    "\n",
    "L = M - K\n",
    "M.shape, K.shape, C.shape, L.shape"
   ]
  },
  {
   "cell_type": "code",
   "execution_count": null,
   "id": "742e5faa",
   "metadata": {},
   "outputs": [],
   "source": [
    "fig = plt.figure(figsize=(12, 12), tight_layout=True)\n",
    "fig.suptitle(f\"Final Test Loss: {results['best_loss']:.3e}\")\n",
    "\n",
    "# --------------------------------- FUNCTIONS\n",
    "\n",
    "# -------------------------------- Lagrangian\n",
    "ax = fig.add_subplot(421, projection=\"3d\")\n",
    "m = ax.plot_surface(q1aa, q1daa, L[:, 0].reshape(q1aa.shape), cmap=\"RdGy\", lw=0)\n",
    "ax.set_xlabel(\"q\")\n",
    "ax.set_ylabel(r\"$\\dot{q}$\")\n",
    "ax.set_zlabel(r\"$\\mathcal{L}_{NN}$\", fontsize=16, labelpad=3)\n",
    "ax.set_title(f\"Mode 1 Lagrangian\")\n",
    "fig.colorbar(m, ax=ax, shrink=0.3, pad=0.1)\n",
    "\n",
    "ax = fig.add_subplot(422, projection=\"3d\")\n",
    "m = ax.plot_surface(q2aa, q2daa, L[:, 1].reshape(q2aa.shape), cmap=\"RdGy\", lw=0)\n",
    "ax.set_xlabel(\"q\")\n",
    "ax.set_ylabel(r\"$\\dot{q}$\")\n",
    "ax.set_zlabel(r\"$\\mathcal{L}_{NN}$\", fontsize=16, labelpad=3)\n",
    "ax.set_title(f\"Mode 2 Lagrangian\")\n",
    "fig.colorbar(m, ax=ax, shrink=0.3, pad=0.1)\n",
    "\n",
    "# ---------------------------------- Mass\n",
    "ax = fig.add_subplot(423, projection=\"3d\")\n",
    "m = ax.plot_surface(q1aa, q1daa, M[:, 0].reshape(q1aa.shape), cmap=\"PiYG\", lw=0)\n",
    "ax.set_xlabel(\"q\")\n",
    "ax.set_ylabel(r\"$\\dot{q}$\")\n",
    "ax.set_zlabel(r\"$\\mathcal{M}_{NN}$\", fontsize=16, labelpad=3)\n",
    "ax.set_title(\"Mode 1 Mass\")\n",
    "fig.colorbar(m, ax=ax, shrink=0.3, pad=0.1)\n",
    "\n",
    "ax = fig.add_subplot(424, projection=\"3d\")\n",
    "m = ax.plot_surface(q2aa, q2daa, M[:, 1].reshape(q2aa.shape), cmap=\"PiYG\", lw=0)\n",
    "ax.set_xlabel(\"q\")\n",
    "ax.set_ylabel(r\"$\\dot{q}$\")\n",
    "ax.set_zlabel(r\"$\\mathcal{M}_{NN}$\", fontsize=16, labelpad=3)\n",
    "ax.set_title(\"Mode 2 Mass\")\n",
    "fig.colorbar(m, ax=ax, shrink=0.3, pad=0.1)\n",
    "\n",
    "# ---------------------------------- Stiffness\n",
    "ax = fig.add_subplot(425, projection=\"3d\")\n",
    "m = ax.plot_surface(q1aa, q1daa, K[:, 0].reshape(q1aa.shape), cmap=\"PiYG\", lw=0)\n",
    "ax.set_xlabel(\"q\")\n",
    "ax.set_ylabel(r\"$\\dot{q}$\")\n",
    "ax.set_zlabel(r\"$\\mathcal{K}_{NN}$\", fontsize=16, labelpad=3)\n",
    "ax.set_title(\"Mode 1 Stiffness\")\n",
    "fig.colorbar(m, ax=ax, shrink=0.3, pad=0.1)\n",
    "\n",
    "ax = fig.add_subplot(426, projection=\"3d\")\n",
    "m = ax.plot_surface(q2aa, q2daa, K[:, 1].reshape(q2aa.shape), cmap=\"PiYG\", lw=0)\n",
    "ax.set_xlabel(\"q\")\n",
    "ax.set_ylabel(r\"$\\dot{q}$\")\n",
    "ax.set_zlabel(r\"$\\mathcal{K}_{NN}$\", fontsize=16, labelpad=3)\n",
    "ax.set_title(\"Mode 2 Stiffness\")\n",
    "fig.colorbar(m, ax=ax, shrink=0.3, pad=0.1)\n",
    "\n",
    "# ---------------------------------- Damping\n",
    "ax = fig.add_subplot(427, projection=\"3d\")\n",
    "m = ax.plot_surface(q1aa, q1daa, C[:, 0].reshape(q1aa.shape), cmap=\"PiYG\", lw=0)\n",
    "ax.set_xlabel(\"q\")\n",
    "ax.set_ylabel(r\"$\\dot{q}$\")\n",
    "ax.set_zlabel(r\"$\\mathcal{D}_{NN}$\", fontsize=16, labelpad=3)\n",
    "ax.set_title(\"Mode 1 Damping\")\n",
    "fig.colorbar(m, ax=ax, shrink=0.3, pad=0.1)\n",
    "\n",
    "ax = fig.add_subplot(428, projection=\"3d\")\n",
    "m = ax.plot_surface(q2aa, q2daa, C[:, 1].reshape(q2aa.shape), cmap=\"PiYG\", lw=0)\n",
    "ax.set_xlabel(\"q\")\n",
    "ax.set_ylabel(r\"$\\dot{q}$\")\n",
    "ax.set_zlabel(r\"$\\mathcal{D}_{NN}$\", fontsize=16, labelpad=3)\n",
    "ax.set_title(\"Mode 2 Damping\")\n",
    "fig.colorbar(m, ax=ax, shrink=0.3, pad=0.1)\n",
    "# fig.savefig(f\"./Modal_LNN/{file_name}-LD.png\")\n"
   ]
  },
  {
   "cell_type": "code",
   "execution_count": null,
   "id": "b5129949",
   "metadata": {},
   "outputs": [],
   "source": [
    "ddx = pred_acc_(test_x, test_f)\n",
    "ddx.shape, test_dx.shape"
   ]
  },
  {
   "cell_type": "code",
   "execution_count": null,
   "id": "9198deb7",
   "metadata": {},
   "outputs": [],
   "source": [
    "fig = plt.figure(figsize=(12, 12), tight_layout=True)\n",
    "fig.suptitle(f\"Final Test Loss: {results['best_loss']:.3e}\")\n",
    "\n",
    "ax = fig.add_subplot(211)\n",
    "ax.plot(ddx[:301*4, 0], label=\"LNN Mode 1\")\n",
    "ax.plot(test_dx[:301*4, 0, -1], label=\"Truth Mode 1\", linestyle='dashed')\n",
    "\n",
    "ax = fig.add_subplot(212)\n",
    "ax.plot(ddx[:301*4, 1], label=\"LNN Mode 2\")\n",
    "ax.plot(test_dx[:301*4, 1, -1], label=\"Truth Mode 2\", linestyle='dashed')\n",
    "\n",
    "plt.legend()"
   ]
  },
  {
   "cell_type": "code",
   "execution_count": null,
   "id": "caf11ad6",
   "metadata": {},
   "outputs": [],
   "source": [
    "fig = plt.figure(figsize=(12, 6), tight_layout=True)\n",
    "\n",
    "ax = fig.add_subplot(121)\n",
    "ax.plot(test_x[:301*20, 0, 0], test_x[:301*20, 0, 1], label=\"Mode 1\")\n",
    "ax.set_title(\"Mode 1 Orbits\")\n",
    "\n",
    "ax = fig.add_subplot(122)\n",
    "ax.plot(test_x[:301*20, 1, 0], test_x[:301*20, 1, 1], label=\"Mode 2\")\n",
    "ax.set_title(\"Mode 2 Orbits\")\n",
    "\n",
    "plt.legend()"
   ]
  }
 ],
 "metadata": {
  "kernelspec": {
   "display_name": ".lnn",
   "language": "python",
   "name": "python3"
  },
  "language_info": {
   "codemirror_mode": {
    "name": "ipython",
    "version": 3
   },
   "file_extension": ".py",
   "mimetype": "text/x-python",
   "name": "python",
   "nbconvert_exporter": "python",
   "pygments_lexer": "ipython3",
   "version": "3.11.5"
  }
 },
 "nbformat": 4,
 "nbformat_minor": 5
}
