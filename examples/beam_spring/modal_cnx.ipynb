{
 "cells": [
  {
   "cell_type": "code",
   "execution_count": null,
   "id": "d72c19b9",
   "metadata": {},
   "outputs": [],
   "source": [
    "# NN packages\n",
    "import jax\n",
    "import jax.numpy as jnp\n",
    "import optax\n",
    "import numpy as np\n",
    "import json\n",
    "\n",
    "# Visualization packages\n",
    "import matplotlib.pyplot as plt\n",
    "\n",
    "# ML Models\n",
    "from LNN.models.MDOF_LNN import Physical_Damped_LNN, Modal_MLP\n",
    "\n",
    "# Helper functions\n",
    "from LNN.helpers import save_to_file, create_modal_training_data, plot_S_curves, plot_3DS_curves\n",
    "\n",
    "from lnn_timesim import time_sim_branch, run"
   ]
  },
  {
   "cell_type": "markdown",
   "id": "fc9cd24a",
   "metadata": {},
   "source": [
    "#### LNN"
   ]
  },
  {
   "cell_type": "code",
   "execution_count": null,
   "id": "ba442ecc",
   "metadata": {},
   "outputs": [],
   "source": [
    "filename='amplitude_step_amplitude_'\n",
    "path='LNN/Conx/modal_amp'\n",
    "start=0.1\n",
    "stop=1.9\n",
    "step=0.1\n",
    "\n",
    "ml_data = save_to_file(filename=filename, path=path, start=start, stop=stop, step=step, check=True)\n",
    "\n",
    "train_data, test_data, info = create_modal_training_data(ml_data, path, split=0.2, seed=42)"
   ]
  },
  {
   "cell_type": "code",
   "execution_count": null,
   "id": "8cc9b935",
   "metadata": {},
   "outputs": [],
   "source": [
    "mnn_settings = {\n",
    "    'name': 'MNN',\n",
    "    'units': 64,\n",
    "    'layers': 4,\n",
    "    'input_shape': 4,\n",
    "    'train_batch_size': 128,\n",
    "    'test_batch_size': 16,\n",
    "    'shuffle': True,\n",
    "    'seed': 69\n",
    "    }\n",
    "\n",
    "knn_settings = {\n",
    "    'name': 'KNN',\n",
    "    'units': 64,\n",
    "    'layers': 4,\n",
    "    'input_shape': 4,\n",
    "    }\n",
    "\n",
    "dnn_settings = {\n",
    "    'name': 'DNN',\n",
    "    'units': 32,\n",
    "    'layers': 4,\n",
    "    'input_shape': 2,\n",
    "    }\n",
    "\n",
    "lr = 1e-03\n",
    "mnn_optimizer = optax.adam(lr)\n",
    "knn_optimizer = optax.adam(lr)\n",
    "dnn_optimizer = optax.adam(lr)\n",
    "epochs = 20\n",
    "show_every = 10"
   ]
  },
  {
   "cell_type": "code",
   "execution_count": null,
   "id": "289ad206",
   "metadata": {},
   "outputs": [],
   "source": [
    "a = Physical_Damped_LNN(\n",
    "    mnn_module=Modal_MLP, \n",
    "    knn_module=Modal_MLP,       \n",
    "    dnn_module=Modal_MLP, \n",
    "    mnn_settings=mnn_settings,\n",
    "    knn_settings=knn_settings,\n",
    "    dnn_settings=dnn_settings, \n",
    "    mnn_optimizer=mnn_optimizer, \n",
    "    knn_optimizer=knn_optimizer, \n",
    "    dnn_optimizer=dnn_optimizer, \n",
    "    info=info, \n",
    "    activation=jax.nn.tanh)\n",
    "\n",
    "# Start training LNN\n",
    "results = None\n",
    "_, _, _ = a.gather()"
   ]
  },
  {
   "cell_type": "code",
   "execution_count": null,
   "id": "40cc1562",
   "metadata": {},
   "outputs": [],
   "source": [
    "results_path = 'MDOF_LNN'\n",
    "file_name='Modal'\n",
    "iter_num = 200\n",
    "\n",
    "epochs = 20\n",
    "show_every = 10"
   ]
  },
  {
   "cell_type": "code",
   "execution_count": null,
   "id": "cdd7fdf0",
   "metadata": {},
   "outputs": [],
   "source": [
    "results = Physical_Damped_LNN.load_model(f\"./LNN/{results_path}/{file_name}/Iter_{iter_num}/model.pkl\")"
   ]
  },
  {
   "cell_type": "code",
   "execution_count": null,
   "id": "94738619",
   "metadata": {},
   "outputs": [],
   "source": [
    "pred_acc_, pred_energy = a._predict(results)"
   ]
  },
  {
   "cell_type": "markdown",
   "id": "1ed7ffcd",
   "metadata": {},
   "source": [
    "#### NOTES:\n",
    "- $16.0$ Hz doesn't start - to investigate\n",
    "- $18.6$ Hz fails after a few steps - to investigate"
   ]
  },
  {
   "cell_type": "code",
   "execution_count": null,
   "id": "0539034c",
   "metadata": {},
   "outputs": [],
   "source": [
    "cont_params_file = 'contparameters.json'\n",
    "for i in np.arange(start, stop+0.1, step):\n",
    "    # Open contparameters.json\n",
    "    with open(cont_params_file, 'r') as file:\n",
    "        data = json.load(file)\n",
    "        # Modify forcing frequency\n",
    "        data['forcing']['frequency'] = i\n",
    "        # Save file\n",
    "        data['Logger']['file_name'] = f'freq_step_{i:.02f}'\n",
    "\n",
    "    # Modify contparameters.json\n",
    "    with open(cont_params_file, 'w') as file:\n",
    "        json.dump(data, file, indent=2)\n",
    "    \n",
    "    # Run simulation\n",
    "    run(pred_acc=pred_acc_)\n",
    "    \n",
    "    # Perform time-sim post-processing\n",
    "    time_sim_branch(file=f'freq_step_{i:.02f}', inplace=\"-i\", run_bif=\"n\", store_physical=\"n\")"
   ]
  }
 ],
 "metadata": {
  "kernelspec": {
   "display_name": ".lnn",
   "language": "python",
   "name": "python3"
  },
  "language_info": {
   "codemirror_mode": {
    "name": "ipython",
    "version": 3
   },
   "file_extension": ".py",
   "mimetype": "text/x-python",
   "name": "python",
   "nbconvert_exporter": "python",
   "pygments_lexer": "ipython3",
   "version": "3.11.5"
  }
 },
 "nbformat": 4,
 "nbformat_minor": 5
}
