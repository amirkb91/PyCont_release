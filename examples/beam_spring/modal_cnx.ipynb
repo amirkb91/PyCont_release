{
 "cells": [
  {
   "cell_type": "code",
   "execution_count": null,
   "id": "d72c19b9",
   "metadata": {},
   "outputs": [],
   "source": [
    "# NN packages\n",
    "import jax\n",
    "import jax.numpy as jnp\n",
    "import optax\n",
    "\n",
    "# Visualization packages\n",
    "import matplotlib.pyplot as plt\n",
    "\n",
    "# ML Models\n",
    "from LNN.models.MDOF_LNN import Physical_Damped_LNN, Modal_MLP\n",
    "\n",
    "# Helper functions\n",
    "from LNN.helpers import save_to_file, create_modal_training_data\n",
    "\n",
    "from runscript import run"
   ]
  },
  {
   "cell_type": "markdown",
   "id": "f34e79e5",
   "metadata": {},
   "source": [
    "#### Data Extraction\n",
    "In this section, we extract the `pose`, `velocity`, `acceleration`, `time`, `force amplitude` and `period` from each continuation simulation file. This dataset was created for **frequencies** ranging from $10.0Hz$ to $24.0Hz$ in steps of $0.2Hz$, where for each, the continuation parameter was the **forcing amplitude**.\n",
    "\n",
    "The output is in **modal coordinates**."
   ]
  },
  {
   "cell_type": "code",
   "execution_count": null,
   "id": "7b3ce683",
   "metadata": {},
   "outputs": [],
   "source": [
    "filename='frequency_step_frequency_'\n",
    "path='LNN/results/modal'\n",
    "start=10.0\n",
    "stop=24.0\n",
    "step=0.2\n",
    "\n",
    "ml_data = save_to_file(filename=filename, path=path, start=start, stop=stop, step=step, check=True)"
   ]
  },
  {
   "cell_type": "markdown",
   "id": "69322c91",
   "metadata": {},
   "source": [
    "#### LNN Dataset Formation"
   ]
  },
  {
   "cell_type": "code",
   "execution_count": null,
   "id": "523e9e1d",
   "metadata": {},
   "outputs": [],
   "source": [
    "train_data, test_data, info = create_modal_training_data(ml_data, path, split=0.2, seed=42)"
   ]
  },
  {
   "cell_type": "code",
   "execution_count": null,
   "id": "337d4a7c",
   "metadata": {},
   "outputs": [],
   "source": [
    "# Format dataset for LNN\n",
    "# Position, velocity & total forcing conditions\n",
    "train_x = train_data[:, :, :2]\n",
    "train_dx = train_data[:, :, 1:3]\n",
    "train_f = train_data[:, :, 3:]\n",
    "\n",
    "test_x = test_data[:, :, :2]\n",
    "test_dx = test_data[:, :, 1:3]\n",
    "test_f = test_data[:, :, 3:]\n",
    "\n",
    "train_data = train_x, train_f, train_dx\n",
    "test_data = test_x, test_f, test_dx"
   ]
  },
  {
   "cell_type": "code",
   "execution_count": null,
   "id": "4c18ff47",
   "metadata": {},
   "outputs": [],
   "source": [
    "train_data[0].shape, test_data[0].shape, train_data[1].shape, test_data[1].shape, train_data[2].shape, test_data[2].shape"
   ]
  },
  {
   "cell_type": "markdown",
   "id": "fc9cd24a",
   "metadata": {},
   "source": [
    "#### LNN\n"
   ]
  },
  {
   "cell_type": "code",
   "execution_count": null,
   "id": "8cc9b935",
   "metadata": {},
   "outputs": [],
   "source": [
    "mnn_settings = {\n",
    "    'name': 'MNN',\n",
    "    'units': 64,\n",
    "    'layers': 4,\n",
    "    'input_shape': 4,\n",
    "    'train_batch_size': 128,\n",
    "    'test_batch_size': 16,\n",
    "    'shuffle': True,\n",
    "    'seed': 69\n",
    "    }\n",
    "\n",
    "knn_settings = {\n",
    "    'name': 'KNN',\n",
    "    'units': 64,\n",
    "    'layers': 4,\n",
    "    'input_shape': 4,\n",
    "    }\n",
    "\n",
    "dnn_settings = {\n",
    "    'name': 'DNN',\n",
    "    'units': 32,\n",
    "    'layers': 4,\n",
    "    'input_shape': 2,\n",
    "    }\n",
    "\n",
    "results_path = 'MDOF_LNN'\n",
    "file_name='Phys'\n",
    "\n",
    "lr = 1e-03\n",
    "mnn_optimizer = optax.adam(lr)\n",
    "knn_optimizer = optax.adam(lr)\n",
    "dnn_optimizer = optax.adam(lr)\n",
    "epochs = 20\n",
    "show_every = 10"
   ]
  },
  {
   "cell_type": "code",
   "execution_count": null,
   "id": "289ad206",
   "metadata": {},
   "outputs": [],
   "source": [
    "a = Physical_Damped_LNN(\n",
    "    mnn_module=Modal_MLP, \n",
    "    knn_module=Modal_MLP,       \n",
    "    dnn_module=Modal_MLP, \n",
    "    mnn_settings=mnn_settings,\n",
    "    knn_settings=knn_settings,\n",
    "    dnn_settings=dnn_settings, \n",
    "    mnn_optimizer=mnn_optimizer, \n",
    "    knn_optimizer=knn_optimizer, \n",
    "    dnn_optimizer=dnn_optimizer, \n",
    "    info=info, \n",
    "    activation=jax.nn.tanh)\n",
    "\n",
    "# Start training LNN\n",
    "results = None\n",
    "_, _, _ = a.gather()"
   ]
  },
  {
   "cell_type": "code",
   "execution_count": null,
   "id": "40cc1562",
   "metadata": {},
   "outputs": [],
   "source": [
    "results_path = 'MDOF_LNN'\n",
    "file_name='Modal'\n",
    "\n",
    "epochs = 20\n",
    "show_every = 10"
   ]
  },
  {
   "cell_type": "code",
   "execution_count": null,
   "id": "87699d07",
   "metadata": {},
   "outputs": [],
   "source": [
    "# # Standard loss\n",
    "# for _ in range(10):\n",
    "#     results = a.train(train_data, test_data, results, epochs=epochs, show_every=show_every)\n",
    "#     a.save_model(results, model_name=f\"Iter_{results['last_epoch']}\", folder_name=f\"{results_path}/{file_name}\")\n",
    "# print(f\"Final loss: {results['best_loss']}\")"
   ]
  },
  {
   "cell_type": "code",
   "execution_count": null,
   "id": "cdd7fdf0",
   "metadata": {},
   "outputs": [],
   "source": [
    "results = Physical_Damped_LNN.load_model(\"./LNN/MDOF_LNN/Modal/Iter_200/model.pkl\")"
   ]
  },
  {
   "cell_type": "code",
   "execution_count": null,
   "id": "94738619",
   "metadata": {},
   "outputs": [],
   "source": [
    "pred_acc_, pred_energy = a._predict(results)"
   ]
  },
  {
   "cell_type": "code",
   "execution_count": null,
   "id": "da98ff82",
   "metadata": {},
   "outputs": [],
   "source": [
    "run(pred_acc=pred_acc_)"
   ]
  },
  {
   "cell_type": "code",
   "execution_count": null,
   "id": "2fc19d3b",
   "metadata": {},
   "outputs": [],
   "source": [
    "a.plot_results(results)"
   ]
  },
  {
   "cell_type": "code",
   "execution_count": null,
   "id": "1be6b8c7",
   "metadata": {},
   "outputs": [],
   "source": [
    "pred_acc_, pred_energy = a._predict(results)"
   ]
  },
  {
   "cell_type": "code",
   "execution_count": null,
   "id": "6419f956",
   "metadata": {},
   "outputs": [],
   "source": [
    "limq11, limq12, limqd11, limqd12 = info[\"q1min\"], info[\"q1max\"], info[\"qd1max\"], info[\"qd1min\"]\n",
    "limq21, limq22, limqd21, limqd22 = info[\"q2min\"], info[\"q2max\"], info[\"qd2max\"], info[\"qd2min\"]\n",
    "\n",
    "q1a, q1da = jnp.linspace(limq11, limq12, 100), jnp.linspace(\n",
    "    limqd11, limqd12, 100)\n",
    "q1aa, q1daa = jnp.meshgrid(q1a, q1da)\n",
    "\n",
    "q2a, q2da = jnp.linspace(limq21, limq22, 100), jnp.linspace(\n",
    "    limqd21, limqd22, 100)\n",
    "q2aa, q2daa = jnp.meshgrid(q2a, q2da)\n",
    "\n",
    "q1a.shape, q1da.shape, q1aa.shape, q1daa.shape, q2a.shape, q2da.shape, q2aa.shape, q2daa.shape"
   ]
  },
  {
   "cell_type": "code",
   "execution_count": null,
   "id": "3a21a105",
   "metadata": {},
   "outputs": [],
   "source": [
    "M, K, C = jax.vmap(pred_energy)(jnp.concatenate([q1aa.reshape(-1, 1), q2aa.reshape(-1, 1)], axis=1), jnp.concatenate([q1daa.reshape(-1, 1), q2daa.reshape(-1, 1)], axis=1))\n",
    "\n",
    "L = M - K\n",
    "M.shape, K.shape, C.shape, L.shape"
   ]
  },
  {
   "cell_type": "code",
   "execution_count": null,
   "id": "742e5faa",
   "metadata": {},
   "outputs": [],
   "source": [
    "fig = plt.figure(figsize=(12, 12), tight_layout=True)\n",
    "fig.suptitle(f\"Final Test Loss: {results['best_loss']:.3e}\")\n",
    "\n",
    "# --------------------------------- FUNCTIONS\n",
    "\n",
    "# -------------------------------- Lagrangian\n",
    "ax = fig.add_subplot(421, projection=\"3d\")\n",
    "m = ax.plot_surface(q1aa, q1daa, L[:, 0].reshape(q1aa.shape), cmap=\"RdGy\", lw=0)\n",
    "ax.set_xlabel(\"q\")\n",
    "ax.set_ylabel(r\"$\\dot{q}$\")\n",
    "ax.set_zlabel(r\"$\\mathcal{L}_{NN}$\", fontsize=16, labelpad=3)\n",
    "ax.set_title(f\"Mode 1 Lagrangian\")\n",
    "fig.colorbar(m, ax=ax, shrink=0.3, pad=0.1)\n",
    "\n",
    "ax = fig.add_subplot(422, projection=\"3d\")\n",
    "m = ax.plot_surface(q2aa, q2daa, L[:, 1].reshape(q2aa.shape), cmap=\"RdGy\", lw=0)\n",
    "ax.set_xlabel(\"q\")\n",
    "ax.set_ylabel(r\"$\\dot{q}$\")\n",
    "ax.set_zlabel(r\"$\\mathcal{L}_{NN}$\", fontsize=16, labelpad=3)\n",
    "ax.set_title(f\"Mode 2 Lagrangian\")\n",
    "fig.colorbar(m, ax=ax, shrink=0.3, pad=0.1)\n",
    "\n",
    "# ---------------------------------- Mass\n",
    "ax = fig.add_subplot(423, projection=\"3d\")\n",
    "m = ax.plot_surface(q1aa, q1daa, M[:, 0].reshape(q1aa.shape), cmap=\"PiYG\", lw=0)\n",
    "ax.set_xlabel(\"q\")\n",
    "ax.set_ylabel(r\"$\\dot{q}$\")\n",
    "ax.set_zlabel(r\"$\\mathcal{M}_{NN}$\", fontsize=16, labelpad=3)\n",
    "ax.set_title(\"Mode 1 Mass\")\n",
    "fig.colorbar(m, ax=ax, shrink=0.3, pad=0.1)\n",
    "\n",
    "ax = fig.add_subplot(424, projection=\"3d\")\n",
    "m = ax.plot_surface(q2aa, q2daa, M[:, 1].reshape(q2aa.shape), cmap=\"PiYG\", lw=0)\n",
    "ax.set_xlabel(\"q\")\n",
    "ax.set_ylabel(r\"$\\dot{q}$\")\n",
    "ax.set_zlabel(r\"$\\mathcal{M}_{NN}$\", fontsize=16, labelpad=3)\n",
    "ax.set_title(\"Mode 2 Mass\")\n",
    "fig.colorbar(m, ax=ax, shrink=0.3, pad=0.1)\n",
    "\n",
    "# ---------------------------------- Stiffness\n",
    "ax = fig.add_subplot(425, projection=\"3d\")\n",
    "m = ax.plot_surface(q1aa, q1daa, K[:, 0].reshape(q1aa.shape), cmap=\"PiYG\", lw=0)\n",
    "ax.set_xlabel(\"q\")\n",
    "ax.set_ylabel(r\"$\\dot{q}$\")\n",
    "ax.set_zlabel(r\"$\\mathcal{K}_{NN}$\", fontsize=16, labelpad=3)\n",
    "ax.set_title(\"Mode 1 Stiffness\")\n",
    "fig.colorbar(m, ax=ax, shrink=0.3, pad=0.1)\n",
    "\n",
    "ax = fig.add_subplot(426, projection=\"3d\")\n",
    "m = ax.plot_surface(q2aa, q2daa, K[:, 1].reshape(q2aa.shape), cmap=\"PiYG\", lw=0)\n",
    "ax.set_xlabel(\"q\")\n",
    "ax.set_ylabel(r\"$\\dot{q}$\")\n",
    "ax.set_zlabel(r\"$\\mathcal{K}_{NN}$\", fontsize=16, labelpad=3)\n",
    "ax.set_title(\"Mode 2 Stiffness\")\n",
    "fig.colorbar(m, ax=ax, shrink=0.3, pad=0.1)\n",
    "\n",
    "# ---------------------------------- Damping\n",
    "ax = fig.add_subplot(427, projection=\"3d\")\n",
    "m = ax.plot_surface(q1aa, q1daa, C[:, 0].reshape(q1aa.shape), cmap=\"PiYG\", lw=0)\n",
    "ax.set_xlabel(\"q\")\n",
    "ax.set_ylabel(r\"$\\dot{q}$\")\n",
    "ax.set_zlabel(r\"$\\mathcal{D}_{NN}$\", fontsize=16, labelpad=3)\n",
    "ax.set_title(\"Mode 1 Damping\")\n",
    "fig.colorbar(m, ax=ax, shrink=0.3, pad=0.1)\n",
    "\n",
    "ax = fig.add_subplot(428, projection=\"3d\")\n",
    "m = ax.plot_surface(q2aa, q2daa, C[:, 1].reshape(q2aa.shape), cmap=\"PiYG\", lw=0)\n",
    "ax.set_xlabel(\"q\")\n",
    "ax.set_ylabel(r\"$\\dot{q}$\")\n",
    "ax.set_zlabel(r\"$\\mathcal{D}_{NN}$\", fontsize=16, labelpad=3)\n",
    "ax.set_title(\"Mode 2 Damping\")\n",
    "fig.colorbar(m, ax=ax, shrink=0.3, pad=0.1)\n",
    "# fig.savefig(f\"./Modal_LNN/{file_name}-LD.png\")\n"
   ]
  },
  {
   "cell_type": "code",
   "execution_count": null,
   "id": "b5129949",
   "metadata": {},
   "outputs": [],
   "source": [
    "ddx = pred_acc_(test_x, test_f)\n",
    "ddx.shape, test_dx.shape"
   ]
  },
  {
   "cell_type": "code",
   "execution_count": null,
   "id": "9198deb7",
   "metadata": {},
   "outputs": [],
   "source": [
    "fig = plt.figure(figsize=(12, 12), tight_layout=True)\n",
    "fig.suptitle(f\"Final Test Loss: {results['best_loss']:.3e}\")\n",
    "\n",
    "ax = fig.add_subplot(211)\n",
    "ax.plot(ddx[:301*4, 0], label=\"LNN Mode 1\")\n",
    "ax.plot(test_dx[:301*4, 0, -1], label=\"Truth Mode 1\", linestyle='dashed')\n",
    "\n",
    "ax = fig.add_subplot(212)\n",
    "ax.plot(ddx[:301*4, 1], label=\"LNN Mode 2\")\n",
    "ax.plot(test_dx[:301*4, 1, -1], label=\"Truth Mode 2\", linestyle='dashed')\n",
    "\n",
    "plt.legend()"
   ]
  },
  {
   "cell_type": "code",
   "execution_count": null,
   "id": "caf11ad6",
   "metadata": {},
   "outputs": [],
   "source": [
    "fig = plt.figure(figsize=(12, 6), tight_layout=True)\n",
    "\n",
    "ax = fig.add_subplot(121)\n",
    "ax.plot(test_x[:301*20, 0, 0], test_x[:301*20, 0, 1], label=\"Mode 1\")\n",
    "ax.set_title(\"Mode 1 Orbits\")\n",
    "\n",
    "ax = fig.add_subplot(122)\n",
    "ax.plot(test_x[:301*20, 1, 0], test_x[:301*20, 1, 1], label=\"Mode 2\")\n",
    "ax.set_title(\"Mode 2 Orbits\")\n",
    "\n",
    "plt.legend()"
   ]
  }
 ],
 "metadata": {
  "kernelspec": {
   "display_name": ".lnn",
   "language": "python",
   "name": "python3"
  },
  "language_info": {
   "codemirror_mode": {
    "name": "ipython",
    "version": 3
   },
   "file_extension": ".py",
   "mimetype": "text/x-python",
   "name": "python",
   "nbconvert_exporter": "python",
   "pygments_lexer": "ipython3",
   "version": "3.11.5"
  }
 },
 "nbformat": 4,
 "nbformat_minor": 5
}
