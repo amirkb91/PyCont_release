{
 "cells": [
  {
   "cell_type": "code",
   "execution_count": null,
   "id": "d72c19b9",
   "metadata": {},
   "outputs": [],
   "source": [
    "# NN packages\n",
    "import jax\n",
    "import jax.numpy as jnp\n",
    "import optax\n",
    "\n",
    "# Visualization packages\n",
    "import matplotlib.pyplot as plt\n",
    "\n",
    "# ML Models\n",
    "from models.MDOF_LNN import Physical_Damped_LNN_V2, Modal_MLP\n",
    "\n",
    "# Helper functions\n",
    "from helpers import save_to_file, create_modal_training_data, plot_S_curves, plot_3DS_curves"
   ]
  },
  {
   "cell_type": "markdown",
   "id": "f34e79e5",
   "metadata": {},
   "source": [
    "#### Data Extraction\n",
    "In this section, we extract the `pose`, `velocity`, `acceleration`, `time`, `force amplitude` and `period` from each continuation simulation file. This dataset was created for **frequencies** ranging from $10.0Hz$ to $24.0Hz$ in steps of $0.2Hz$, where for each, the continuation parameter was the **forcing amplitude**.\n",
    "\n",
    "The output is in **modal coordinates**."
   ]
  },
  {
   "cell_type": "code",
   "execution_count": null,
   "id": "7b3ce683",
   "metadata": {},
   "outputs": [],
   "source": [
    "filename='frequency_step_frequency_'\n",
    "path='results/modal'\n",
    "start=10.0\n",
    "stop=24.0\n",
    "step=0.2\n",
    "\n",
    "ml_data = save_to_file(filename=filename, path=path, start=start, stop=stop, step=step, check=True)"
   ]
  },
  {
   "cell_type": "code",
   "execution_count": null,
   "id": "68df9302",
   "metadata": {},
   "outputs": [],
   "source": [
    "train_data, test_data, info = create_modal_training_data(ml_data, path, split=0.2, seed=42)"
   ]
  },
  {
   "cell_type": "markdown",
   "id": "bd00b0d2",
   "metadata": {},
   "source": [
    "#### Dataset Visualization"
   ]
  },
  {
   "cell_type": "code",
   "execution_count": null,
   "id": "e4c6cdba",
   "metadata": {},
   "outputs": [],
   "source": [
    "plot_S_curves(ml_data)"
   ]
  },
  {
   "cell_type": "code",
   "execution_count": null,
   "id": "3f32efa6",
   "metadata": {},
   "outputs": [],
   "source": [
    "plot_3DS_curves(ml_data)"
   ]
  },
  {
   "cell_type": "markdown",
   "id": "6850eb87",
   "metadata": {},
   "source": [
    "#### MDOF Beam Definition"
   ]
  },
  {
   "cell_type": "code",
   "execution_count": null,
   "id": "3d10dc0d",
   "metadata": {},
   "outputs": [],
   "source": [
    "# Beam paremeters for 2 mode system\n",
    "k_nl = 4250000\n",
    "w_1 = 91.734505484821950\n",
    "w_2 = 3.066194429903638e02\n",
    "zeta_1 = 0.03\n",
    "zeta_2 = 0.09\n",
    "phi_L = jnp.array([[-7.382136522799137, 7.360826867549465]])\n",
    "\n",
    "# Modal Matrices\n",
    "_M = jnp.eye(2)\n",
    "_C = jnp.array([[2 * zeta_1 * w_1, 0], [0, 2 * zeta_2 * w_2]])\n",
    "_K = jnp.array([[w_1**2, 0], [0, w_2**2]])"
   ]
  },
  {
   "cell_type": "code",
   "execution_count": null,
   "id": "6419f956",
   "metadata": {},
   "outputs": [],
   "source": [
    "limq11, limq12, limqd11, limqd12 = info[\"q1min\"], info[\"q1max\"], info[\"qd1max\"], info[\"qd1min\"]\n",
    "limq21, limq22, limqd21, limqd22 = info[\"q2min\"], info[\"q2max\"], info[\"qd2max\"], info[\"qd2min\"]\n",
    "\n",
    "q1a, q1da = jnp.linspace(limq11, limq12, 100), jnp.linspace(\n",
    "    limqd11, limqd12, 100)\n",
    "q1aa, q1daa = jnp.meshgrid(q1a, q1da)\n",
    "\n",
    "q2a, q2da = jnp.linspace(limq21, limq22, 100), jnp.linspace(\n",
    "    limqd21, limqd22, 100)\n",
    "q2aa, q2daa = jnp.meshgrid(q2a, q2da)\n",
    "\n",
    "q1a.shape, q1da.shape, q1aa.shape, q1daa.shape, q2a.shape, q2da.shape, q2aa.shape, q2daa.shape"
   ]
  },
  {
   "cell_type": "code",
   "execution_count": null,
   "id": "538476e7",
   "metadata": {},
   "outputs": [],
   "source": [
    "M_anal = 0.5 * jax.vmap(jnp.dot, in_axes=(None, 0))(_M, jnp.concatenate([q1daa.reshape(-1, 1), q2daa.reshape(-1, 1)], axis=1)**2)\n",
    "\n",
    "K_anal = 0.5 * jax.vmap(jnp.dot, in_axes=(None, 0))(_K, jnp.concatenate([q1aa.reshape(-1, 1), q2aa.reshape(-1, 1)], axis=1)**2) + 0.25 * k_nl * jax.vmap(jnp.dot, in_axes=(None, 0))(phi_L.T, (jax.vmap(jnp.dot, in_axes=(None, 0))(phi_L, jnp.concatenate([q1aa.reshape(-1, 1), q2aa.reshape(-1, 1)], axis=1)**4)))\n",
    "\n",
    "C_anal = 0.5 * jax.vmap(jnp.dot, in_axes=(None, 0))(_C, jnp.concatenate([q1daa.reshape(-1, 1), q2daa.reshape(-1, 1)], axis=1)**2)\n",
    "\n",
    "L_anal = M_anal - K_anal\n",
    "\n",
    "M_anal.shape, K_anal.shape, C_anal.shape"
   ]
  },
  {
   "cell_type": "code",
   "execution_count": null,
   "id": "7d23e51e",
   "metadata": {},
   "outputs": [],
   "source": [
    "fig = plt.figure(figsize=(12, 12), tight_layout=True)\n",
    "fig.suptitle(f\"Ground Truth\")\n",
    "\n",
    "# --------------------------------- FUNCTIONS\n",
    "\n",
    "# -------------------------------- Lagrangian\n",
    "ax = fig.add_subplot(421, projection=\"3d\")\n",
    "m = ax.plot_surface(q1aa, q1daa, L_anal[:, 0].reshape(q1aa.shape), cmap=\"RdGy\", lw=0)\n",
    "ax.set_xlabel(\"q\")\n",
    "ax.set_ylabel(r\"$\\dot{q}$\")\n",
    "ax.set_zlabel(r\"$\\mathcal{L}_{NN}$\", fontsize=16, labelpad=3)\n",
    "ax.set_title(f\"Mode 1 Lagrangian\")\n",
    "fig.colorbar(m, ax=ax, shrink=0.3, pad=0.1)\n",
    "\n",
    "ax = fig.add_subplot(422, projection=\"3d\")\n",
    "m = ax.plot_surface(q2aa, q2daa, L_anal[:, 1].reshape(q2aa.shape), cmap=\"RdGy\", lw=0)\n",
    "ax.set_xlabel(\"q\")\n",
    "ax.set_ylabel(r\"$\\dot{q}$\")\n",
    "ax.set_zlabel(r\"$\\mathcal{L}_{NN}$\", fontsize=16, labelpad=3)\n",
    "ax.set_title(f\"Mode 2 Lagrangian\")\n",
    "fig.colorbar(m, ax=ax, shrink=0.3, pad=0.1)\n",
    "\n",
    "# ---------------------------------- Mass\n",
    "ax = fig.add_subplot(423, projection=\"3d\")\n",
    "m = ax.plot_surface(q1aa, q1daa, M_anal[:, 0].reshape(q1aa.shape), cmap=\"PiYG\", lw=0)\n",
    "ax.set_xlabel(\"q\")\n",
    "ax.set_ylabel(r\"$\\dot{q}$\")\n",
    "ax.set_zlabel(r\"$\\mathcal{M}_{NN}$\", fontsize=16, labelpad=3)\n",
    "ax.set_title(\"Mode 1 Mass\")\n",
    "fig.colorbar(m, ax=ax, shrink=0.3, pad=0.1)\n",
    "\n",
    "ax = fig.add_subplot(424, projection=\"3d\")\n",
    "m = ax.plot_surface(q2aa, q2daa, M_anal[:, 1].reshape(q2aa.shape), cmap=\"PiYG\", lw=0)\n",
    "ax.set_xlabel(\"q\")\n",
    "ax.set_ylabel(r\"$\\dot{q}$\")\n",
    "ax.set_zlabel(r\"$\\mathcal{M}_{NN}$\", fontsize=16, labelpad=3)\n",
    "ax.set_title(\"Mode 2 Mass\")\n",
    "fig.colorbar(m, ax=ax, shrink=0.3, pad=0.1)\n",
    "\n",
    "# ---------------------------------- Stiffness\n",
    "ax = fig.add_subplot(425, projection=\"3d\")\n",
    "m = ax.plot_surface(q1aa, q1daa, K_anal[:, 0].reshape(q1aa.shape), cmap=\"PiYG\", lw=0)\n",
    "ax.set_xlabel(\"q\")\n",
    "ax.set_ylabel(r\"$\\dot{q}$\")\n",
    "ax.set_zlabel(r\"$\\mathcal{K}_{NN}$\", fontsize=16, labelpad=3)\n",
    "ax.set_title(\"Mode 1 Stiffness\")\n",
    "fig.colorbar(m, ax=ax, shrink=0.3, pad=0.1)\n",
    "\n",
    "ax = fig.add_subplot(426, projection=\"3d\")\n",
    "m = ax.plot_surface(q2aa, q2daa, K_anal[:, 1].reshape(q2aa.shape), cmap=\"PiYG\", lw=0)\n",
    "ax.set_xlabel(\"q\")\n",
    "ax.set_ylabel(r\"$\\dot{q}$\")\n",
    "ax.set_zlabel(r\"$\\mathcal{K}_{NN}$\", fontsize=16, labelpad=3)\n",
    "ax.set_title(\"Mode 2 Stiffness\")\n",
    "fig.colorbar(m, ax=ax, shrink=0.3, pad=0.1)\n",
    "\n",
    "# ---------------------------------- Damping\n",
    "ax = fig.add_subplot(427, projection=\"3d\")\n",
    "m = ax.plot_surface(q1aa, q1daa, C_anal[:, 0].reshape(q1aa.shape), cmap=\"PiYG\", lw=0)\n",
    "ax.set_xlabel(\"q\")\n",
    "ax.set_ylabel(r\"$\\dot{q}$\")\n",
    "ax.set_zlabel(r\"$\\mathcal{D}_{NN}$\", fontsize=16, labelpad=3)\n",
    "ax.set_title(\"Mode 1 Damping\")\n",
    "fig.colorbar(m, ax=ax, shrink=0.3, pad=0.1)\n",
    "\n",
    "ax = fig.add_subplot(428, projection=\"3d\")\n",
    "m = ax.plot_surface(q2aa, q2daa, C_anal[:, 1].reshape(q2aa.shape), cmap=\"PiYG\", lw=0)\n",
    "ax.set_xlabel(\"q\")\n",
    "ax.set_ylabel(r\"$\\dot{q}$\")\n",
    "ax.set_zlabel(r\"$\\mathcal{D}_{NN}$\", fontsize=16, labelpad=3)\n",
    "ax.set_title(\"Mode 2 Damping\")\n",
    "fig.colorbar(m, ax=ax, shrink=0.3, pad=0.1)\n",
    "# fig.savefig(f\"./Modal_LNN/{file_name}-LD.png\")\n"
   ]
  }
 ],
 "metadata": {
  "kernelspec": {
   "display_name": ".lnn",
   "language": "python",
   "name": "python3"
  },
  "language_info": {
   "codemirror_mode": {
    "name": "ipython",
    "version": 3
   },
   "file_extension": ".py",
   "mimetype": "text/x-python",
   "name": "python",
   "nbconvert_exporter": "python",
   "pygments_lexer": "ipython3",
   "version": "3.11.5"
  }
 },
 "nbformat": 4,
 "nbformat_minor": 5
}
