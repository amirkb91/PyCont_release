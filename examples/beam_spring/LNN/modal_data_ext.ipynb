{
 "cells": [
  {
   "cell_type": "code",
   "execution_count": 87,
   "id": "d72c19b9",
   "metadata": {},
   "outputs": [],
   "source": [
    "import h5py\n",
    "import pickle\n",
    "import numpy as np\n",
    "import scipy.linalg as spl\n",
    "import matplotlib.pyplot as plt"
   ]
  },
  {
   "cell_type": "code",
   "execution_count": 98,
   "id": "ef6bf476",
   "metadata": {},
   "outputs": [],
   "source": [
    "def check_data(pose, vel, acc, force):\n",
    "    # Beam paremeters for 2 mode system\n",
    "    k_nl = 4250000\n",
    "    w_1 = 91.734505484821950\n",
    "    w_2 = 3.066194429903638e02\n",
    "    zeta_1 = 0.03\n",
    "    zeta_2 = 0.09\n",
    "    phi_L = np.array([[-7.382136522799137, 7.360826867549465]])\n",
    "\n",
    "    # Modal Matrices\n",
    "    M = np.eye(2)\n",
    "    C = np.array([[2 * zeta_1 * w_1, 0], [0, 2 * zeta_2 * w_2]])\n",
    "    K = np.array([[w_1**2, 0], [0, w_2**2]])\n",
    "    Minv = spl.inv(M)\n",
    "    \n",
    "    # Calculate acceleration\n",
    "    calc_acc = Minv @ (-K @ pose.reshape(2, -1, order=\"F\") - C @ vel.reshape(2, -1, order=\"F\") - k_nl * phi_L.T @ ((phi_L @ pose.reshape(2, -1, order=\"F\"))**3) + force.reshape(2, -1, order=\"F\"))\n",
    "\n",
    "    assert np.abs(acc.reshape(2, -1, order=\"F\") - calc_acc).all() < 1e-6, \"Calculated acceleration does not match provided acceleration data.\""
   ]
  },
  {
   "cell_type": "markdown",
   "id": "f34e79e5",
   "metadata": {},
   "source": [
    "#### Data Extraction\n",
    "In this section, we extract the `pose`, `velocity`, `acceleration`, `time`, `force amplitude` and `period` from each continuation simulation file. This dataset was created for **frequencies** ranging from $10.0Hz$ to $24.0Hz$ in steps of $0.2Hz$, where for each, the continuation parameter was the **forcing amplitude**.\n",
    "\n",
    "The output is in **modal coordinates**."
   ]
  },
  {
   "cell_type": "code",
   "execution_count": 89,
   "id": "7b3ce683",
   "metadata": {},
   "outputs": [],
   "source": [
    "filename='frequency_step_frequency_'\n",
    "path='results/modal'"
   ]
  },
  {
   "cell_type": "code",
   "execution_count": 99,
   "id": "ecec7940",
   "metadata": {},
   "outputs": [],
   "source": [
    "# Store ML data\n",
    "ml_data = {}\n",
    "\n",
    "# Loop over all files in directory\n",
    "for i in np.arange(10.0, 24.1, 0.2):\n",
    "    # Open new file\n",
    "    file = f\"{path}/{filename}{i:.03f}.h5\"\n",
    "\n",
    "    # -------------------------- READ CONTINUATION FILES\n",
    "    # NOTE: COL -> Number of Periodic Solutions, ROW -> Number of Solution Points\n",
    "    data = h5py.File(str(file), \"r\")\n",
    "    pose = data[\"/Config_Time/POSE\"][:].squeeze()\n",
    "    vel = data[\"/Config_Time/VELOCITY\"][:].squeeze()\n",
    "    acc = data[\"/Config_Time/ACCELERATION\"][:].squeeze()\n",
    "    time = data[\"/Config_Time/Time\"][:].T\n",
    "    F = data[\"/Force_Amp\"][:]\n",
    "    T = data[\"/T\"][:]\n",
    "    # Compute total force\n",
    "    _force = F * np.sin(2 * np.pi / T * time)\n",
    "    force = np.concatenate((_force[np.newaxis, :, :], np.zeros_like(_force[np.newaxis, :, :])), axis=0)\n",
    "    # Close file\n",
    "    data.close()\n",
    "    \n",
    "    # -------------------------------- CALC CHECKS\n",
    "    check_data(pose, vel, acc, force)\n",
    "\n",
    "    # ------------------------------- COLLECT DATA\n",
    "    ml_data[f\"{i:.03f}\"] = {\n",
    "        \"pose\": pose,\n",
    "        \"vel\": vel,\n",
    "        \"acc\": acc,\n",
    "        \"time\": time,\n",
    "        \"F\": F,\n",
    "        \"T\": T,\n",
    "        \"force\": force\n",
    "    }\n",
    "\n",
    "# SAVE DATA\n",
    "with open(f\"{path}/data.pkl\", \"wb\") as f:\n",
    "    pickle.dump(ml_data, f)"
   ]
  },
  {
   "cell_type": "code",
   "execution_count": 101,
   "id": "3e646a5e",
   "metadata": {},
   "outputs": [
    {
     "data": {
      "text/plain": [
       "((2, 301, 39),\n",
       " (2, 301, 39),\n",
       " (2, 301, 39),\n",
       " (2, 301, 39),\n",
       " (301, 39),\n",
       " (39,),\n",
       " (39,))"
      ]
     },
     "execution_count": 101,
     "metadata": {},
     "output_type": "execute_result"
    }
   ],
   "source": [
    "pose.shape, vel.shape, acc.shape, force.shape, time.shape, F.shape, T.shape"
   ]
  },
  {
   "cell_type": "markdown",
   "id": "bd00b0d2",
   "metadata": {},
   "source": [
    "#### Dataset Visualization"
   ]
  },
  {
   "cell_type": "code",
   "execution_count": null,
   "id": "e4c6cdba",
   "metadata": {},
   "outputs": [],
   "source": [
    "f, a = plt.subplots(figsize=(10, 10))\n",
    "a.set(xlabel=\"Forcing Amplitude\", ylabel=\"Max Position Amplitude\")\n",
    "\n",
    "# Color cycle for different files\n",
    "color_cycle = plt.rcParams[\"axes.prop_cycle\"].by_key()[\"color\"]\n",
    "color_cycle = color_cycle * ((len(ml_data.keys()) // len(color_cycle)) + 1)\n",
    "\n",
    "# Plot solutions\n",
    "line_objects = []  # Collect all line objects for cursor interaction\n",
    "offsets = {}  # Store offsets for each segment\n",
    "total_points = 0  # Total number of points plotted\n",
    "\n",
    "for data, color in zip(ml_data.items(), color_cycle):\n",
    "    k, v = data\n",
    "    pose_time = v[\"pose\"]\n",
    "    F = v[\"F\"]\n",
    "\n",
    "    n_solpoints = len(F)\n",
    "    amp = np.zeros(n_solpoints)\n",
    "    for i in range(n_solpoints):\n",
    "        amp[i] = np.max(np.abs(pose_time[0, :, i])) / 1.0\n",
    "\n",
    "    (line,) = a.plot(\n",
    "        F / 1.0,\n",
    "        amp,\n",
    "        marker=\"none\",\n",
    "        linestyle=\"solid\",\n",
    "        color=color,\n",
    "        label=k,\n",
    "    )\n",
    "    offsets[line] = total_points\n",
    "    total_points += len(F)\n",
    "    line_objects.append(line)\n",
    "\n",
    "a.legend(ncols=2, bbox_to_anchor=(1.0, 1.0))"
   ]
  },
  {
   "cell_type": "code",
   "execution_count": null,
   "id": "3f32efa6",
   "metadata": {},
   "outputs": [],
   "source": [
    "# Create 3D plot\n",
    "fig = plt.figure(figsize=(12, 9))\n",
    "ax = fig.add_subplot(111, projection=\"3d\")\n",
    "ax.set_xlabel(\"Forcing Frequency (Hz)\")\n",
    "ax.set_ylabel(\"Forcing Amplitude\")\n",
    "ax.set_zlabel(\"Max Position Amplitude\")\n",
    "\n",
    "# Define colors for different continuation types\n",
    "frc_color = \"blue\"  # Frequency continuation (FRC)\n",
    "scurve_color = \"orange\"  # Amplitude continuation (S-curves)\n",
    "\n",
    "# Plot solutions from all files\n",
    "for k, v in ml_data.items():\n",
    "    pose_time = v[\"pose\"]\n",
    "    color = scurve_color\n",
    "    \n",
    "    T = v[\"T\"]\n",
    "    freq = 1 / (T * 1.0)  # Convert period to frequency\n",
    "    F = v[\"F\"]\n",
    "\n",
    "    n_solpoints = len(F)\n",
    "    amp = np.zeros(n_solpoints)\n",
    "    for i in range(n_solpoints):\n",
    "        amp[i] = np.max(np.abs(pose_time[0, :, i])) / 1.0\n",
    "\n",
    "    # Plot the 3D curve (solid lines only, no stability info)\n",
    "    ax.plot(freq, F / 1.0, amp, linestyle=\"-\", linewidth=2)\n",
    "\n",
    "# Customize the plot\n",
    "ax.grid(True, alpha=0.3)\n",
    "\n",
    "# Set viewing angle for better visualization\n",
    "ax.view_init(elev=20, azim=-70)\n",
    "\n",
    "plt.title(\"3D Response Surface\")\n",
    "plt.tight_layout()"
   ]
  },
  {
   "cell_type": "markdown",
   "id": "69322c91",
   "metadata": {},
   "source": [
    "#### LNN Dataset Formation"
   ]
  },
  {
   "cell_type": "code",
   "execution_count": 103,
   "id": "d51fb42f",
   "metadata": {},
   "outputs": [],
   "source": [
    "SPLIT=0.2\n",
    "seed=42 # for reproducibility"
   ]
  },
  {
   "cell_type": "code",
   "execution_count": 104,
   "id": "523e9e1d",
   "metadata": {},
   "outputs": [],
   "source": [
    "with open(f\"{path}/data.pkl\", \"rb\") as f:\n",
    "    ml_data = pickle.load(f)\n",
    "    \n",
    "    # Collect data shapes\n",
    "    n_curves = len(ml_data.keys())\n",
    "    x_train, dx_train, ddx_train, force_train = [], [], [], []\n",
    "    x_test, dx_test, ddx_test, force_test = [], [], [], []\n",
    "\n",
    "    # Create datasets\n",
    "    for k, v in ml_data.items():\n",
    "        assert v[\"pose\"].shape == v[\"vel\"].shape == v[\"acc\"].shape == v[\"force\"].shape, f\"Data shape mismatch for key {k}\"\n",
    "\n",
    "        n_time_steps_per_point = v[\"time\"].shape[0]\n",
    "        n_points_per_curve = v[\"time\"].shape[1]\n",
    "\n",
    "        # Split data into training and testing sets\n",
    "        rng = np.random.default_rng(seed=seed)\n",
    "        shuffle = rng.permutation(n_points_per_curve)\n",
    "        seed += 1 # Increment seed for next shuffle\n",
    "        \n",
    "        train_indices = shuffle[:int(n_points_per_curve * (1 - SPLIT))]\n",
    "        test_indices = shuffle[int(n_points_per_curve * (1 - SPLIT)):]\n",
    "        \n",
    "        _x_train = v[\"pose\"][:, :, train_indices]\n",
    "        _dx_train = v[\"vel\"][:, :, train_indices]\n",
    "        _ddx_train = v[\"acc\"][:, :, train_indices]\n",
    "        _force_train = v[\"force\"][:, :, train_indices]\n",
    "\n",
    "        _x_test = v[\"pose\"][:, :, test_indices]\n",
    "        _dx_test = v[\"vel\"][:, :, test_indices]\n",
    "        _ddx_test = v[\"acc\"][:, :, test_indices]\n",
    "        _force_test = v[\"force\"][:, :, test_indices]\n",
    "\n",
    "        # Append to training data\n",
    "        ## Reshape: Full time series per point in order\n",
    "        x_train.append(_x_train.reshape(2, -1, order=\"F\"))\n",
    "        dx_train.append(_dx_train.reshape(2, -1, order=\"F\"))\n",
    "        ddx_train.append(_ddx_train.reshape(2, -1, order=\"F\"))\n",
    "        force_train.append(_force_train.reshape(2, -1, order=\"F\"))\n",
    "\n",
    "        # Append to testing data\n",
    "        ## Reshape: Full time series per point in order\n",
    "        x_test.append(_x_test.reshape(2, -1, order=\"F\"))\n",
    "        dx_test.append(_dx_test.reshape(2, -1, order=\"F\"))\n",
    "        ddx_test.append(_ddx_test.reshape(2, -1, order=\"F\"))\n",
    "        force_test.append(_force_test.reshape(2, -1, order=\"F\"))\n",
    "\n",
    "\n",
    "    # Convert lists to numpy arrays\n",
    "    x_train = np.concatenate(x_train, axis=-1)\n",
    "    dx_train = np.concatenate(dx_train, axis=-1)\n",
    "    ddx_train = np.concatenate(ddx_train, axis=-1)\n",
    "    force_train = np.concatenate(force_train, axis=-1)\n",
    "    x_test = np.concatenate(x_test, axis=-1)\n",
    "    dx_test = np.concatenate(dx_test, axis=-1)\n",
    "    ddx_test = np.concatenate(ddx_test, axis=-1)\n",
    "    force_test = np.concatenate(force_test, axis=-1)\n",
    "\n",
    "    # Collect data\n",
    "    train_data = np.concatenate(\n",
    "        (x_train[:, :, np.newaxis], dx_train[:, :, np.newaxis], ddx_train[:, :, np.newaxis], force_train[:, :, np.newaxis]), axis=-1\n",
    "    )\n",
    "    test_data = np.concatenate(\n",
    "        (x_test[:, :, np.newaxis], dx_test[:, :, np.newaxis], ddx_test[:, :, np.newaxis], force_test[:, :, np.newaxis]), axis=-1\n",
    "    )\n",
    "    \n",
    "    info = {\n",
    "        \"train_data_shape\": train_data.shape,\n",
    "        \"test_data_shape\": test_data.shape,\n",
    "        \"n_curves\": n_curves,\n",
    "        \"Shapes\" : \"[Samples, Features: x, dx, ddx, force]\",\n",
    "        \"qmax\": x_train.max(),\n",
    "        \"qmin\": x_train.min(),\n",
    "        \"qdmax\": dx_train.max(),\n",
    "        \"qdmin\": dx_train.min(),\n",
    "        \"qddmax\": ddx_train.max(),\n",
    "        \"qddmin\": ddx_train.min(),\n",
    "    }"
   ]
  },
  {
   "cell_type": "code",
   "execution_count": 105,
   "id": "09182e97",
   "metadata": {},
   "outputs": [
    {
     "data": {
      "text/plain": [
       "((2, 805175),\n",
       " (2, 805175),\n",
       " (2, 805175),\n",
       " (2, 805175),\n",
       " (2, 207389),\n",
       " (2, 207389),\n",
       " (2, 207389),\n",
       " (2, 207389))"
      ]
     },
     "execution_count": 105,
     "metadata": {},
     "output_type": "execute_result"
    }
   ],
   "source": [
    "x_train.shape, dx_train.shape, ddx_train.shape, force_train.shape, x_test.shape, dx_test.shape, ddx_test.shape, force_test.shape"
   ]
  },
  {
   "cell_type": "code",
   "execution_count": 106,
   "id": "d82a2f22",
   "metadata": {},
   "outputs": [
    {
     "data": {
      "text/plain": [
       "((2, 805175, 4), (2, 207389, 4))"
      ]
     },
     "execution_count": 106,
     "metadata": {},
     "output_type": "execute_result"
    }
   ],
   "source": [
    "train_data.shape, test_data.shape"
   ]
  },
  {
   "cell_type": "code",
   "execution_count": 107,
   "id": "337d4a7c",
   "metadata": {},
   "outputs": [],
   "source": [
    "# Format dataset for LNN\n",
    "# Position, velocity & total forcing conditions\n",
    "train_x = train_data[:, :, :2]\n",
    "train_dx = train_data[:, :, 1:3]\n",
    "train_f = train_data[:, :, 3:]\n",
    "\n",
    "test_x = test_data[:, :, :2]\n",
    "test_dx = test_data[:, :, 1:3]\n",
    "test_f = test_data[:, :, 3:]\n",
    "\n",
    "train_data = train_x, train_f, train_dx\n",
    "test_data = test_x, test_f, test_dx"
   ]
  },
  {
   "cell_type": "code",
   "execution_count": 108,
   "id": "4c18ff47",
   "metadata": {},
   "outputs": [
    {
     "data": {
      "text/plain": [
       "((2, 805175, 2),\n",
       " (2, 207389, 2),\n",
       " (2, 805175, 1),\n",
       " (2, 207389, 1),\n",
       " (2, 805175, 2),\n",
       " (2, 207389, 2))"
      ]
     },
     "execution_count": 108,
     "metadata": {},
     "output_type": "execute_result"
    }
   ],
   "source": [
    "train_data[0].shape, test_data[0].shape, train_data[1].shape, test_data[1].shape, train_data[2].shape, test_data[2].shape"
   ]
  },
  {
   "cell_type": "markdown",
   "id": "fc9cd24a",
   "metadata": {},
   "source": [
    "#### LNN\n"
   ]
  },
  {
   "cell_type": "code",
   "execution_count": null,
   "id": "34b672be",
   "metadata": {},
   "outputs": [],
   "source": [
    "# Load necessary packages\n",
    "import jax\n",
    "import jax.numpy as jnp\n",
    "\n",
    "# NN packages\n",
    "import optax\n",
    "\n",
    "# Data packages\n",
    "import matplotlib.pyplot as plt\n",
    "\n",
    "from MDOF_LNN import Damped_Split_LNN, Split_MLP, Damped_Split_LNN"
   ]
  },
  {
   "cell_type": "code",
   "execution_count": null,
   "id": "8cc9b935",
   "metadata": {},
   "outputs": [],
   "source": [
    "mnn_settings = {\n",
    "    'name': 'MNN',\n",
    "    'units': 16,\n",
    "    'layers': 2,\n",
    "    'input_shape': 2,\n",
    "    'train_batch_size': 128,\n",
    "    'test_batch_size': 64,\n",
    "    'shuffle': True,\n",
    "    'seed': 69\n",
    "    }\n",
    "\n",
    "knn_settings = {\n",
    "    'name': 'KNN',\n",
    "    'units': 16,\n",
    "    'layers': 2,\n",
    "    'input_shape': 2,\n",
    "    }\n",
    "\n",
    "dnn_settings = {\n",
    "    'name': 'DNN',\n",
    "    'units': 16,\n",
    "    'layers': 2,\n",
    "    'input_shape': 1,\n",
    "    }\n",
    "\n",
    "results_path = 'MDOF_LNN'\n",
    "file_name='MKD'\n",
    "\n",
    "lr = 1e-03\n",
    "mnn_optimizer = optax.adam(lr)\n",
    "knn_optimizer = optax.adam(lr)\n",
    "dnn_optimizer = optax.adam(lr)\n",
    "epochs = 20\n",
    "show_every = 10"
   ]
  },
  {
   "cell_type": "code",
   "execution_count": null,
   "id": "98bd4b74",
   "metadata": {},
   "outputs": [],
   "source": [
    "results = Damped_Split_LNN.load_model(f\"./MDOF_LNN/MKD/Iter_400/model.pkl\")\n",
    "mnn_settings = results['mnn_settings']\n",
    "knn_settings = results['knn_settings']\n",
    "dnn_settings = results['dnn_settings']\n",
    "info = results['info']"
   ]
  },
  {
   "cell_type": "code",
   "execution_count": null,
   "id": "5a0e2480",
   "metadata": {},
   "outputs": [],
   "source": [
    "a = Damped_Split_LNN(\n",
    "    mnn_module=Split_MLP, \n",
    "    knn_module=Split_MLP,       \n",
    "    dnn_module=Split_MLP, \n",
    "    mnn_settings=mnn_settings,\n",
    "    knn_settings=knn_settings,\n",
    "    dnn_settings=dnn_settings, \n",
    "    mnn_optimizer=mnn_optimizer, \n",
    "    knn_optimizer=knn_optimizer, \n",
    "    dnn_optimizer=dnn_optimizer, \n",
    "    info=info, \n",
    "    activation=jax.nn.tanh)\n",
    "\n",
    "# Start training LNN\n",
    "# results = None\n",
    "_, _, _ = a.gather()"
   ]
  },
  {
   "cell_type": "code",
   "execution_count": null,
   "id": "87699d07",
   "metadata": {},
   "outputs": [],
   "source": [
    "# Standard loss\n",
    "for _ in range(20):\n",
    "    results = a.train(train_data, test_data, results, epochs=epochs, show_every=show_every)\n",
    "    a.save_model(results, model_name=f\"Iter_{results['last_epoch']}\", folder_name=f\"{results_path}/{file_name}\")\n",
    "print(f\"Final loss: {results['best_loss']}\")"
   ]
  },
  {
   "cell_type": "code",
   "execution_count": null,
   "id": "c4855b1d",
   "metadata": {},
   "outputs": [],
   "source": [
    "def evaluate(results, n_points=40, file_name=\"MKD\"):\n",
    "        _, pred_energy = a._predict(results)\n",
    "        limq1, limq2, limqd1, limqd2 = info[\"qmin\"], info[\"qmax\"], info[\"qdmax\"], info[\"qdmin\"]\n",
    "\n",
    "        qa, qda = jnp.linspace(limq1, limq2, n_points), jnp.linspace(\n",
    "            limqd1, limqd2, n_points)\n",
    "        qaa, qdaa = jnp.meshgrid(qa, qda)\n",
    "\n",
    "        # Get all energy functions here\n",
    "        M, K, D = pred_energy(qaa.reshape(-1, 1, 1), qdaa.reshape(-1, 1, 1))\n",
    "        L = M - K\n",
    "\n",
    "        fig = plt.figure(figsize=(12, 12), tight_layout=True)\n",
    "        fig.suptitle(f\"Final Test Loss: {results['best_loss']:.3e}\")\n",
    "\n",
    "        # --------------------------------- FUNCTIONS\n",
    "\n",
    "        # -------------------------------- Lagrangian\n",
    "        ax = fig.add_subplot(221, projection=\"3d\")\n",
    "        m = ax.plot_surface(qaa, qdaa, L.reshape(qaa.shape), cmap=\"RdGy\", lw=0)\n",
    "        ax.set_xlabel(\"q\")\n",
    "        ax.set_ylabel(r\"$\\dot{q}$\")\n",
    "        ax.set_zlabel(r\"$\\mathcal{L}_{NN}$\", fontsize=16, labelpad=3)\n",
    "        ax.set_title(f\"Lagrangian\")\n",
    "        fig.colorbar(m, ax=ax, shrink=0.3, pad=0.1)\n",
    "\n",
    "        # ---------------------------------- Mass\n",
    "        ax = fig.add_subplot(222, projection=\"3d\")\n",
    "        m = ax.plot_surface(qaa, qdaa, M.reshape(qaa.shape), cmap=\"PiYG\", lw=0)\n",
    "        ax.set_xlabel(\"q\")\n",
    "        ax.set_ylabel(r\"$\\dot{q}$\")\n",
    "        ax.set_zlabel(r\"$\\mathcal{M}_{NN}$\", fontsize=16, labelpad=3)\n",
    "        ax.set_title(\"Mass\")\n",
    "        fig.colorbar(m, ax=ax, shrink=0.3, pad=0.1)\n",
    "\n",
    "        # ---------------------------------- Stiffness\n",
    "        ax = fig.add_subplot(223, projection=\"3d\")\n",
    "        m = ax.plot_surface(qaa, qdaa, K.reshape(qaa.shape), cmap=\"PiYG\", lw=0)\n",
    "        ax.set_xlabel(\"q\")\n",
    "        ax.set_ylabel(r\"$\\dot{q}$\")\n",
    "        ax.set_zlabel(r\"$\\mathcal{K}_{NN}$\", fontsize=16, labelpad=3)\n",
    "        ax.set_title(\"Stiffness\")\n",
    "        fig.colorbar(m, ax=ax, shrink=0.3, pad=0.1)\n",
    "\n",
    "        # ---------------------------------- Damping\n",
    "        ax = fig.add_subplot(224, projection=\"3d\")\n",
    "        m = ax.plot_surface(qaa, qdaa, D.reshape(qaa.shape), cmap=\"PiYG\", lw=0)\n",
    "        ax.set_xlabel(\"q\")\n",
    "        ax.set_ylabel(r\"$\\dot{q}$\")\n",
    "        ax.set_zlabel(r\"$\\mathcal{D}_{NN}$\", fontsize=16, labelpad=3)\n",
    "        ax.set_title(\"Damping\")\n",
    "        fig.colorbar(m, ax=ax, shrink=0.3, pad=0.1)\n",
    "        # fig.savefig(f\"./Split_LNN/{file_name}-LD.png\")\n",
    "\n",
    "        # --------------------------------- ENERGIES --------------------------------- #\n",
    "        fig = plt.figure(figsize=(10, 10), tight_layout=True)\n",
    "\n",
    "        # --------------------------------- Stiffness\n",
    "        K = jax.vmap(jax.jacrev(pred_energy, 0))(\n",
    "            qa.reshape(-1, 1, 1), qda.reshape(-1, 1, 1))[1]\n",
    "        ax = fig.add_subplot(221)\n",
    "        ax.plot(qa, -K.squeeze(), lw=0.8)\n",
    "        ax.set_title(\"Predicted Spring Force\")\n",
    "        ax.set_xlabel(r\"$q \\ (m)$\", fontsize=12)\n",
    "        ax.set_ylabel(\n",
    "            r\"$-\\frac{\\partial \\mathcal{L}_{NN}}{\\partial q}$\", fontsize=18, labelpad=7)\n",
    "\n",
    "        # ---------------------------------- Damping\n",
    "        C = jax.vmap(jax.jacrev(pred_energy, 1))(\n",
    "            qa.reshape(-1, 1, 1), qda.reshape(-1, 1, 1))[2]\n",
    "        ax = fig.add_subplot(222)\n",
    "        ax.plot(qda, C.squeeze(), lw=0.8)\n",
    "        ax.set_title(\"Predicted Damping Force\")\n",
    "        ax.set_ylabel(r\"$\\dot{q} \\ (m \\ s^{-1})$ \", fontsize=12)\n",
    "        ax.set_ylabel(\n",
    "            r\"$\\frac{\\partial \\mathcal{D}_{NN}}{\\partial \\dot{q}}$\", fontsize=18, labelpad=7)\n",
    "\n",
    "        # ----------------------------------- Mass\n",
    "        M = jax.vmap(jax.hessian(pred_energy, 1))(\n",
    "            qa.reshape(-1, 1, 1), qda.reshape(-1, 1, 1))[0]\n",
    "        ax = fig.add_subplot(223)\n",
    "        m = ax.plot(qa, M.reshape(qda.shape), lw=0.8)\n",
    "        ax.set_xlabel(r\"$q$\")\n",
    "        ax.set_ylabel(\n",
    "            r\"$\\frac{\\partial}{\\partial t}(\\frac{\\partial \\mathcal{L}_{NN}}{\\partial q})$\", fontsize=16, labelpad=3)\n",
    "        ax.set_title(f\"Mass\")\n",
    "\n",
    "        ax = fig.add_subplot(224)\n",
    "        m = ax.plot(qda, M.reshape(qda.shape), lw=0.8)\n",
    "        ax.set_xlabel(r\"$\\dot{q}$\")\n",
    "        ax.set_ylabel(\n",
    "            r\"$\\frac{\\partial}{\\partial t}(\\frac{\\partial \\mathcal{L}_{NN}}{\\partial q})$\", fontsize=16, labelpad=3)\n",
    "        ax.set_title(f\"Mass\")"
   ]
  },
  {
   "cell_type": "code",
   "execution_count": null,
   "id": "efb58eff",
   "metadata": {},
   "outputs": [],
   "source": [
    "evaluate(results=results, n_points=300, file_name=file_name)"
   ]
  }
 ],
 "metadata": {
  "kernelspec": {
   "display_name": ".lnn",
   "language": "python",
   "name": "python3"
  },
  "language_info": {
   "codemirror_mode": {
    "name": "ipython",
    "version": 3
   },
   "file_extension": ".py",
   "mimetype": "text/x-python",
   "name": "python",
   "nbconvert_exporter": "python",
   "pygments_lexer": "ipython3",
   "version": "3.11.5"
  }
 },
 "nbformat": 4,
 "nbformat_minor": 5
}
