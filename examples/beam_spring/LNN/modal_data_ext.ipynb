{
 "cells": [
  {
   "cell_type": "code",
   "execution_count": 1,
   "id": "d72c19b9",
   "metadata": {},
   "outputs": [],
   "source": [
    "# NN packages\n",
    "import jax\n",
    "import jax.numpy as jnp\n",
    "import optax\n",
    "\n",
    "# Visualization packages\n",
    "import matplotlib.pyplot as plt\n",
    "\n",
    "# ML Models\n",
    "from models.MDOF_LNN import Physical_Damped_LNN_V2, Modal_MLP\n",
    "\n",
    "# Helper functions\n",
    "from helpers import save_to_file, create_modal_training_data, plot_S_curves, plot_3DS_curves"
   ]
  },
  {
   "cell_type": "markdown",
   "id": "f34e79e5",
   "metadata": {},
   "source": [
    "#### Data Extraction\n",
    "In this section, we extract the `pose`, `velocity`, `acceleration`, `time`, `force amplitude` and `period` from each continuation simulation file. This dataset was created for **frequencies** ranging from $10.0Hz$ to $24.0Hz$ in steps of $0.2Hz$, where for each, the continuation parameter was the **forcing amplitude**.\n",
    "\n",
    "The output is in **modal coordinates**."
   ]
  },
  {
   "cell_type": "code",
   "execution_count": 2,
   "id": "7b3ce683",
   "metadata": {},
   "outputs": [
    {
     "name": "stdout",
     "output_type": "stream",
     "text": [
      "Data saved to results/modal/data.pkl\n",
      "Number of files: 71\n",
      "\n",
      "---EXAMPLE SHAPES---\n",
      "pose: (2, 301, 39), vel: (2, 301, 39), acc: (2, 301, 39)\n",
      "If MODAL: 2 Modes, 301 time steps per 39 points along curve\n",
      "If PHYSICAL: 301 time steps per 39 points along curve\n",
      "time: (301, 39), F: (39,), T: (39,), force: (2, 301, 39)\n"
     ]
    }
   ],
   "source": [
    "filename='frequency_step_frequency_'\n",
    "path='results/modal'\n",
    "start=10.0\n",
    "stop=24.0\n",
    "step=0.2\n",
    "\n",
    "ml_data = save_to_file(filename=filename, path=path, start=start, stop=stop, step=step, check=True)"
   ]
  },
  {
   "cell_type": "markdown",
   "id": "69322c91",
   "metadata": {},
   "source": [
    "#### LNN Dataset Formation"
   ]
  },
  {
   "cell_type": "code",
   "execution_count": 3,
   "id": "523e9e1d",
   "metadata": {},
   "outputs": [
    {
     "name": "stdout",
     "output_type": "stream",
     "text": [
      "Training data shape: (805175, 2, 4), Testing data shape: (207389, 2, 4)\n",
      "Samples, # of Modes, [x, dx, ddx, force]\n",
      "x_train.shape: (805175, 2), dx_train.shape: (805175, 2), ddx_train.shape: (805175, 2), force_train.shape: (805175, 2)\n",
      "x_test.shape: (207389, 2), dx_test.shape: (207389, 2), ddx_test.shape: (207389, 2), force_test.shape: (207389, 2)\n"
     ]
    }
   ],
   "source": [
    "train_data, test_data, info = create_modal_training_data(ml_data, path, split=0.2, seed=42)"
   ]
  },
  {
   "cell_type": "code",
   "execution_count": 4,
   "id": "337d4a7c",
   "metadata": {},
   "outputs": [],
   "source": [
    "# Format dataset for LNN\n",
    "# Position, velocity & total forcing conditions\n",
    "train_x = train_data[:, :, :2]\n",
    "train_dx = train_data[:, :, 1:3]\n",
    "train_f = train_data[:, :, 3:]\n",
    "\n",
    "test_x = test_data[:, :, :2]\n",
    "test_dx = test_data[:, :, 1:3]\n",
    "test_f = test_data[:, :, 3:]\n",
    "\n",
    "train_data = train_x, train_f, train_dx\n",
    "test_data = test_x, test_f, test_dx"
   ]
  },
  {
   "cell_type": "code",
   "execution_count": 5,
   "id": "4c18ff47",
   "metadata": {},
   "outputs": [
    {
     "data": {
      "text/plain": [
       "((805175, 2, 2),\n",
       " (207389, 2, 2),\n",
       " (805175, 2, 1),\n",
       " (207389, 2, 1),\n",
       " (805175, 2, 2),\n",
       " (207389, 2, 2))"
      ]
     },
     "execution_count": 5,
     "metadata": {},
     "output_type": "execute_result"
    }
   ],
   "source": [
    "train_data[0].shape, test_data[0].shape, train_data[1].shape, test_data[1].shape, train_data[2].shape, test_data[2].shape"
   ]
  },
  {
   "cell_type": "markdown",
   "id": "fc9cd24a",
   "metadata": {},
   "source": [
    "#### LNN\n"
   ]
  },
  {
   "cell_type": "code",
   "execution_count": 6,
   "id": "8cc9b935",
   "metadata": {},
   "outputs": [],
   "source": [
    "mnn_settings = {\n",
    "    'name': 'MNN',\n",
    "    'units': 64,\n",
    "    'layers': 2,\n",
    "    'input_shape': 4,\n",
    "    'train_batch_size': 128,\n",
    "    'test_batch_size': 64,\n",
    "    'shuffle': True,\n",
    "    'seed': 69\n",
    "    }\n",
    "\n",
    "knn_settings = {\n",
    "    'name': 'KNN',\n",
    "    'units': 64,\n",
    "    'layers': 2,\n",
    "    'input_shape': 4,\n",
    "    }\n",
    "\n",
    "dnn_settings = {\n",
    "    'name': 'DNN',\n",
    "    'units': 32,\n",
    "    'layers': 2,\n",
    "    'input_shape': 2,\n",
    "    }\n",
    "\n",
    "results_path = 'MDOF_LNN'\n",
    "file_name='Phys'\n",
    "\n",
    "lr = 1e-03\n",
    "mnn_optimizer = optax.adam(lr)\n",
    "knn_optimizer = optax.adam(lr)\n",
    "dnn_optimizer = optax.adam(lr)\n",
    "epochs = 20\n",
    "show_every = 10"
   ]
  },
  {
   "cell_type": "code",
   "execution_count": 7,
   "id": "289ad206",
   "metadata": {},
   "outputs": [],
   "source": [
    "a = Physical_Damped_LNN_V2(\n",
    "    mnn_module=Modal_MLP, \n",
    "    knn_module=Modal_MLP,       \n",
    "    dnn_module=Modal_MLP, \n",
    "    mnn_settings=mnn_settings,\n",
    "    knn_settings=knn_settings,\n",
    "    dnn_settings=dnn_settings, \n",
    "    mnn_optimizer=mnn_optimizer, \n",
    "    knn_optimizer=knn_optimizer, \n",
    "    dnn_optimizer=dnn_optimizer, \n",
    "    info=info, \n",
    "    activation=jax.nn.tanh)\n",
    "\n",
    "# Start training LNN\n",
    "results = None\n",
    "_, _, _ = a.gather()"
   ]
  },
  {
   "cell_type": "code",
   "execution_count": 8,
   "id": "40cc1562",
   "metadata": {},
   "outputs": [],
   "source": [
    "results_path = 'MDOF_LNN'\n",
    "file_name='Modal'\n",
    "\n",
    "epochs = 20\n",
    "show_every = 10"
   ]
  },
  {
   "cell_type": "code",
   "execution_count": null,
   "id": "87699d07",
   "metadata": {},
   "outputs": [
    {
     "name": "stdout",
     "output_type": "stream",
     "text": [
      "Epoch: 0 | Train Loss: 411545.46875000 | Best Loss: 10866.36816406 | Test Loss: 10866.36816406\n",
      "---------------------------------\n",
      "Epoch: 10 | Train Loss: 37.58167648 | Best Loss: 0.19462022 | Test Loss: 579.87371826\n",
      "---------------------------------\n",
      "Epoch: 20 | Train Loss: 14.34745407 | Best Loss: 0.19462022 | Test Loss: 94.70811462\n",
      "---------------------------------\n",
      "Epoch: 30 | Train Loss: 258.78662109 | Best Loss: 0.19462022 | Test Loss: 41.16482162\n",
      "---------------------------------\n",
      "Epoch: 40 | Train Loss: 320.39254761 | Best Loss: 0.19462022 | Test Loss: 295.25161743\n",
      "---------------------------------\n",
      "Epoch: 50 | Train Loss: 897.14477539 | Best Loss: 0.19462022 | Test Loss: 615.90014648\n",
      "---------------------------------\n",
      "Epoch: 60 | Train Loss: 90.81365967 | Best Loss: 0.19462022 | Test Loss: 265.75653076\n",
      "---------------------------------\n"
     ]
    }
   ],
   "source": [
    "# Standard loss\n",
    "for _ in range(10):\n",
    "    results = a.train(train_data, test_data, results, epochs=epochs, show_every=show_every)\n",
    "    a.save_model(results, model_name=f\"Iter_{results['last_epoch']}\", folder_name=f\"{results_path}/{file_name}\")\n",
    "print(f\"Final loss: {results['best_loss']}\")"
   ]
  },
  {
   "cell_type": "code",
   "execution_count": null,
   "id": "1be6b8c7",
   "metadata": {},
   "outputs": [],
   "source": [
    "_, pred_energy = a._predict(results)"
   ]
  },
  {
   "cell_type": "code",
   "execution_count": null,
   "id": "6419f956",
   "metadata": {},
   "outputs": [],
   "source": [
    "limq1, limq2, limqd1, limqd2 = info[\"qmin\"], info[\"qmax\"], info[\"qdmax\"], info[\"qdmin\"]\n",
    "\n",
    "qa, qda = jnp.linspace(limq1, limq2, 100), jnp.linspace(\n",
    "    limqd1, limqd2, 100)\n",
    "qaa, qdaa = jnp.meshgrid(qa, qda)\n",
    "qa.shape, qda.shape, qaa.shape, qdaa.shape"
   ]
  },
  {
   "cell_type": "code",
   "execution_count": null,
   "id": "3a21a105",
   "metadata": {},
   "outputs": [],
   "source": [
    "M, K, C = jax.vmap(pred_energy)(jnp.concatenate([qaa.reshape(-1, 1), qaa.reshape(-1, 1)], axis=1), jnp.concatenate([qdaa.reshape(-1, 1), qdaa.reshape(-1, 1)], axis=1))\n",
    "\n",
    "L = M - K\n",
    "M.shape, K.shape, C.shape, L.shape"
   ]
  },
  {
   "cell_type": "code",
   "execution_count": null,
   "id": "742e5faa",
   "metadata": {},
   "outputs": [],
   "source": [
    "fig = plt.figure(figsize=(12, 12), tight_layout=True)\n",
    "fig.suptitle(f\"Final Test Loss: {results['best_loss']:.3e}\")\n",
    "\n",
    "# --------------------------------- FUNCTIONS\n",
    "\n",
    "# -------------------------------- Lagrangian\n",
    "ax = fig.add_subplot(421, projection=\"3d\")\n",
    "m = ax.plot_surface(qaa, qdaa, L[:, 0].reshape(qaa.shape), cmap=\"RdGy\", lw=0)\n",
    "ax.set_xlabel(\"q\")\n",
    "ax.set_ylabel(r\"$\\dot{q}$\")\n",
    "ax.set_zlabel(r\"$\\mathcal{L}_{NN}$\", fontsize=16, labelpad=3)\n",
    "ax.set_title(f\"Mode 1 Lagrangian\")\n",
    "fig.colorbar(m, ax=ax, shrink=0.3, pad=0.1)\n",
    "\n",
    "ax = fig.add_subplot(422, projection=\"3d\")\n",
    "m = ax.plot_surface(qaa, qdaa, L[:, 1].reshape(qaa.shape), cmap=\"RdGy\", lw=0)\n",
    "ax.set_xlabel(\"q\")\n",
    "ax.set_ylabel(r\"$\\dot{q}$\")\n",
    "ax.set_zlabel(r\"$\\mathcal{L}_{NN}$\", fontsize=16, labelpad=3)\n",
    "ax.set_title(f\"Mode 2 Lagrangian\")\n",
    "fig.colorbar(m, ax=ax, shrink=0.3, pad=0.1)\n",
    "\n",
    "# ---------------------------------- Mass\n",
    "ax = fig.add_subplot(423, projection=\"3d\")\n",
    "m = ax.plot_surface(qaa, qdaa, M[:, 0].reshape(qaa.shape), cmap=\"PiYG\", lw=0)\n",
    "ax.set_xlabel(\"q\")\n",
    "ax.set_ylabel(r\"$\\dot{q}$\")\n",
    "ax.set_zlabel(r\"$\\mathcal{M}_{NN}$\", fontsize=16, labelpad=3)\n",
    "ax.set_title(\"Mode 1 Mass\")\n",
    "fig.colorbar(m, ax=ax, shrink=0.3, pad=0.1)\n",
    "\n",
    "ax = fig.add_subplot(424, projection=\"3d\")\n",
    "m = ax.plot_surface(qaa, qdaa, M[:, 1].reshape(qaa.shape), cmap=\"PiYG\", lw=0)\n",
    "ax.set_xlabel(\"q\")\n",
    "ax.set_ylabel(r\"$\\dot{q}$\")\n",
    "ax.set_zlabel(r\"$\\mathcal{M}_{NN}$\", fontsize=16, labelpad=3)\n",
    "ax.set_title(\"Mode 2 Mass\")\n",
    "fig.colorbar(m, ax=ax, shrink=0.3, pad=0.1)\n",
    "\n",
    "# ---------------------------------- Stiffness\n",
    "ax = fig.add_subplot(425, projection=\"3d\")\n",
    "m = ax.plot_surface(qaa, qdaa, K[:, 0].reshape(qaa.shape), cmap=\"PiYG\", lw=0)\n",
    "ax.set_xlabel(\"q\")\n",
    "ax.set_ylabel(r\"$\\dot{q}$\")\n",
    "ax.set_zlabel(r\"$\\mathcal{K}_{NN}$\", fontsize=16, labelpad=3)\n",
    "ax.set_title(\"Mode 1 Stiffness\")\n",
    "fig.colorbar(m, ax=ax, shrink=0.3, pad=0.1)\n",
    "\n",
    "ax = fig.add_subplot(426, projection=\"3d\")\n",
    "m = ax.plot_surface(qaa, qdaa, K[:, 1].reshape(qaa.shape), cmap=\"PiYG\", lw=0)\n",
    "ax.set_xlabel(\"q\")\n",
    "ax.set_ylabel(r\"$\\dot{q}$\")\n",
    "ax.set_zlabel(r\"$\\mathcal{K}_{NN}$\", fontsize=16, labelpad=3)\n",
    "ax.set_title(\"Mode 2 Stiffness\")\n",
    "fig.colorbar(m, ax=ax, shrink=0.3, pad=0.1)\n",
    "\n",
    "# ---------------------------------- Damping\n",
    "ax = fig.add_subplot(427, projection=\"3d\")\n",
    "m = ax.plot_surface(qaa, qdaa, C[:, 0].reshape(qaa.shape), cmap=\"PiYG\", lw=0)\n",
    "ax.set_xlabel(\"q\")\n",
    "ax.set_ylabel(r\"$\\dot{q}$\")\n",
    "ax.set_zlabel(r\"$\\mathcal{D}_{NN}$\", fontsize=16, labelpad=3)\n",
    "ax.set_title(\"Mode 1 Damping\")\n",
    "fig.colorbar(m, ax=ax, shrink=0.3, pad=0.1)\n",
    "\n",
    "ax = fig.add_subplot(428, projection=\"3d\")\n",
    "m = ax.plot_surface(qaa, qdaa, C[:, 1].reshape(qaa.shape), cmap=\"PiYG\", lw=0)\n",
    "ax.set_xlabel(\"q\")\n",
    "ax.set_ylabel(r\"$\\dot{q}$\")\n",
    "ax.set_zlabel(r\"$\\mathcal{D}_{NN}$\", fontsize=16, labelpad=3)\n",
    "ax.set_title(\"Mode 2 Damping\")\n",
    "fig.colorbar(m, ax=ax, shrink=0.3, pad=0.1)\n",
    "# fig.savefig(f\"./Modal_LNN/{file_name}-LD.png\")\n"
   ]
  }
 ],
 "metadata": {
  "kernelspec": {
   "display_name": ".lnn",
   "language": "python",
   "name": "python3"
  },
  "language_info": {
   "codemirror_mode": {
    "name": "ipython",
    "version": 3
   },
   "file_extension": ".py",
   "mimetype": "text/x-python",
   "name": "python",
   "nbconvert_exporter": "python",
   "pygments_lexer": "ipython3",
   "version": "3.11.5"
  }
 },
 "nbformat": 4,
 "nbformat_minor": 5
}
