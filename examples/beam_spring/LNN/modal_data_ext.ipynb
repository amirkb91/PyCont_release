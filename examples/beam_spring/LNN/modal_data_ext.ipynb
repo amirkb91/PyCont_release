{
 "cells": [
  {
   "cell_type": "markdown",
   "id": "8f9dc28f",
   "metadata": {},
   "source": [
    "Notebook for training our LNN in **modal** coordinates."
   ]
  },
  {
   "cell_type": "code",
   "execution_count": 1,
   "id": "d72c19b9",
   "metadata": {},
   "outputs": [],
   "source": [
    "# NN packages\n",
    "import jax\n",
    "import jax.numpy as jnp\n",
    "import optax\n",
    "\n",
    "# Visualization packages\n",
    "import matplotlib.pyplot as plt\n",
    "\n",
    "# ML Models\n",
    "from models.MDOF_LNN import Physical_Damped_LNN, Modal_MLP\n",
    "\n",
    "# Helper functions\n",
    "from helpers import save_to_file, create_modal_training_data"
   ]
  },
  {
   "cell_type": "markdown",
   "id": "f34e79e5",
   "metadata": {},
   "source": [
    "#### Data Extraction\n",
    "In this section, we extract the `pose`, `velocity`, `acceleration`, `time`, `force amplitude` and `period` from each continuation simulation file. This dataset was created for **frequencies** ranging from $10.0Hz$ to $24.0Hz$ in steps of $0.2Hz$, where for each, the continuation parameter was the **forcing amplitude**.\n",
    "\n",
    "The output is in **modal coordinates**."
   ]
  },
  {
   "cell_type": "code",
   "execution_count": 2,
   "id": "ad21c2e0",
   "metadata": {},
   "outputs": [],
   "source": [
    "FREQUENCY = False"
   ]
  },
  {
   "cell_type": "code",
   "execution_count": 3,
   "id": "7b3ce683",
   "metadata": {},
   "outputs": [
    {
     "name": "stdout",
     "output_type": "stream",
     "text": [
      "Data saved to Conx/modal_amp/data.pkl\n",
      "Number of files: 20\n",
      "\n",
      "---EXAMPLE SHAPES---\n",
      "pose: (2, 201, 114), vel: (2, 201, 114), acc: (2, 201, 114)\n",
      "If MODAL: 2 Modes, 301 time steps per 39 points along curve\n",
      "If PHYSICAL: 301 time steps per 39 points along curve\n",
      "time: (201, 114), F: (114,), T: (114,), force: (2, 201, 114)\n"
     ]
    }
   ],
   "source": [
    "if FREQUENCY:\n",
    "    filename='frequency_step_frequency_'\n",
    "    path='Conx/modal_freq'\n",
    "    start=10.0\n",
    "    stop=24.0\n",
    "    step=0.2\n",
    "else:\n",
    "    filename='amplitude_step_amplitude_'\n",
    "    path='Conx/modal_amp'\n",
    "    start=0.1\n",
    "    stop=2.0\n",
    "    step=0.1\n",
    "\n",
    "ml_data = save_to_file(filename=filename, path=path, start=start, stop=stop, step=step, check=True)"
   ]
  },
  {
   "cell_type": "code",
   "execution_count": 4,
   "id": "523e9e1d",
   "metadata": {},
   "outputs": [
    {
     "name": "stdout",
     "output_type": "stream",
     "text": [
      "Training data shape: (238587, 2, 4), Testing data shape: (61908, 2, 4)\n",
      "Samples, # of Modes, [x, dx, ddx, force]\n",
      "x_train.shape: (238587, 2), dx_train.shape: (238587, 2), ddx_train.shape: (238587, 2), force_train.shape: (238587, 2)\n",
      "x_test.shape: (61908, 2), dx_test.shape: (61908, 2), ddx_test.shape: (61908, 2), force_test.shape: (61908, 2)\n"
     ]
    }
   ],
   "source": [
    "train_data, test_data, info = create_modal_training_data(ml_data, path, split=0.2, seed=42)"
   ]
  },
  {
   "cell_type": "code",
   "execution_count": 5,
   "id": "337d4a7c",
   "metadata": {},
   "outputs": [],
   "source": [
    "# Format dataset for LNN\n",
    "# Position, velocity & total forcing conditions\n",
    "train_x = train_data[:, :, :2]\n",
    "train_dx = train_data[:, :, 1:3]\n",
    "train_f = train_data[:, :, 3:]\n",
    "\n",
    "test_x = test_data[:, :, :2]\n",
    "test_dx = test_data[:, :, 1:3]\n",
    "test_f = test_data[:, :, 3:]\n",
    "\n",
    "train_data = train_x, train_f, train_dx\n",
    "test_data = test_x, test_f, test_dx"
   ]
  },
  {
   "cell_type": "code",
   "execution_count": 6,
   "id": "4c18ff47",
   "metadata": {},
   "outputs": [
    {
     "data": {
      "text/plain": [
       "((238587, 2, 2),\n",
       " (61908, 2, 2),\n",
       " (238587, 2, 1),\n",
       " (61908, 2, 1),\n",
       " (238587, 2, 2),\n",
       " (61908, 2, 2))"
      ]
     },
     "execution_count": 6,
     "metadata": {},
     "output_type": "execute_result"
    }
   ],
   "source": [
    "train_data[0].shape, test_data[0].shape, train_data[1].shape, test_data[1].shape, train_data[2].shape, test_data[2].shape"
   ]
  },
  {
   "cell_type": "markdown",
   "id": "fc9cd24a",
   "metadata": {},
   "source": [
    "#### LNN\n",
    "Here we define our LNN using 3 different NN for:\n",
    "- Our kinetic energy $T \\rightarrow MNN$:\n",
    "- Our potential energy $V \\rightarrow KNN$:\n",
    "- Our damping energy $T \\rightarrow DNN$:"
   ]
  },
  {
   "cell_type": "code",
   "execution_count": 7,
   "id": "8cc9b935",
   "metadata": {},
   "outputs": [],
   "source": [
    "mnn_settings = {\n",
    "    'name': 'MNN',\n",
    "    'units': 64,\n",
    "    'layers': 4,\n",
    "    'input_shape': 4,\n",
    "    'train_batch_size': 128,\n",
    "    'test_batch_size': 16,\n",
    "    'shuffle': True,\n",
    "    'seed': 69\n",
    "    }\n",
    "\n",
    "knn_settings = {\n",
    "    'name': 'KNN',\n",
    "    'units': 64,\n",
    "    'layers': 4,\n",
    "    'input_shape': 4,\n",
    "    }\n",
    "\n",
    "dnn_settings = {\n",
    "    'name': 'DNN',\n",
    "    'units': 32,\n",
    "    'layers': 4,\n",
    "    'input_shape': 2,\n",
    "    }"
   ]
  },
  {
   "cell_type": "code",
   "execution_count": 8,
   "id": "5def8fdf",
   "metadata": {},
   "outputs": [],
   "source": [
    "# Training parameters\n",
    "lr = 1e-03\n",
    "mnn_optimizer = optax.adam(lr)\n",
    "knn_optimizer = optax.adam(lr)\n",
    "dnn_optimizer = optax.adam(lr)\n",
    "epochs = 20\n",
    "show_every = 10"
   ]
  },
  {
   "cell_type": "code",
   "execution_count": 9,
   "id": "fa1fc712",
   "metadata": {},
   "outputs": [],
   "source": [
    "results_path = 'MDOF_LNN'\n",
    "file_name='Modal_amp'\n",
    "epochs = 20\n",
    "show_every = 10"
   ]
  },
  {
   "cell_type": "code",
   "execution_count": 10,
   "id": "289ad206",
   "metadata": {},
   "outputs": [],
   "source": [
    "a = Physical_Damped_LNN(\n",
    "    mnn_module=Modal_MLP, \n",
    "    knn_module=Modal_MLP,       \n",
    "    dnn_module=Modal_MLP, \n",
    "    mnn_settings=mnn_settings,\n",
    "    knn_settings=knn_settings,\n",
    "    dnn_settings=dnn_settings, \n",
    "    mnn_optimizer=mnn_optimizer, \n",
    "    knn_optimizer=knn_optimizer, \n",
    "    dnn_optimizer=dnn_optimizer, \n",
    "    info=info, \n",
    "    activation=jax.nn.tanh)\n",
    "\n",
    "# Start training LNN\n",
    "results = None\n",
    "_, _, _ = a.gather()"
   ]
  },
  {
   "cell_type": "code",
   "execution_count": 11,
   "id": "87699d07",
   "metadata": {},
   "outputs": [
    {
     "name": "stderr",
     "output_type": "stream",
     "text": [
      "E0919 20:05:18.358717 4035438 pjrt_stream_executor_client.cc:2916] Execution of replica 0 failed: INTERNAL: jaxlib/gpu/solver_handle_pool.cc:37: operation gpusolverDnCreate(&handle) failed: cuSolver internal error\n"
     ]
    },
    {
     "ename": "XlaRuntimeError",
     "evalue": "INTERNAL: jaxlib/gpu/solver_handle_pool.cc:37: operation gpusolverDnCreate(&handle) failed: cuSolver internal error",
     "output_type": "error",
     "traceback": [
      "\u001b[31m---------------------------------------------------------------------------\u001b[39m",
      "\u001b[31mXlaRuntimeError\u001b[39m                           Traceback (most recent call last)",
      "\u001b[36mCell\u001b[39m\u001b[36m \u001b[39m\u001b[32mIn[11]\u001b[39m\u001b[32m, line 3\u001b[39m\n\u001b[32m      1\u001b[39m \u001b[38;5;66;03m# Standard loss\u001b[39;00m\n\u001b[32m      2\u001b[39m \u001b[38;5;28;01mfor\u001b[39;00m _ \u001b[38;5;129;01min\u001b[39;00m \u001b[38;5;28mrange\u001b[39m(\u001b[32m10\u001b[39m):\n\u001b[32m----> \u001b[39m\u001b[32m3\u001b[39m     results = \u001b[43ma\u001b[49m\u001b[43m.\u001b[49m\u001b[43mtrain\u001b[49m\u001b[43m(\u001b[49m\u001b[43mtrain_data\u001b[49m\u001b[43m,\u001b[49m\u001b[43m \u001b[49m\u001b[43mtest_data\u001b[49m\u001b[43m,\u001b[49m\u001b[43m \u001b[49m\u001b[43mresults\u001b[49m\u001b[43m,\u001b[49m\u001b[43m \u001b[49m\u001b[43mepochs\u001b[49m\u001b[43m=\u001b[49m\u001b[43mepochs\u001b[49m\u001b[43m,\u001b[49m\u001b[43m \u001b[49m\u001b[43mshow_every\u001b[49m\u001b[43m=\u001b[49m\u001b[43mshow_every\u001b[49m\u001b[43m)\u001b[49m\n\u001b[32m      4\u001b[39m     a.save_model(results, model_name=\u001b[33mf\u001b[39m\u001b[33m\"\u001b[39m\u001b[33mIter_\u001b[39m\u001b[38;5;132;01m{\u001b[39;00mresults[\u001b[33m'\u001b[39m\u001b[33mlast_epoch\u001b[39m\u001b[33m'\u001b[39m]\u001b[38;5;132;01m}\u001b[39;00m\u001b[33m\"\u001b[39m, folder_name=\u001b[33mf\u001b[39m\u001b[33m\"\u001b[39m\u001b[38;5;132;01m{\u001b[39;00mresults_path\u001b[38;5;132;01m}\u001b[39;00m\u001b[33m/\u001b[39m\u001b[38;5;132;01m{\u001b[39;00mfile_name\u001b[38;5;132;01m}\u001b[39;00m\u001b[33m\"\u001b[39m)\n\u001b[32m      5\u001b[39m \u001b[38;5;28mprint\u001b[39m(\u001b[33mf\u001b[39m\u001b[33m\"\u001b[39m\u001b[33mFinal loss: \u001b[39m\u001b[38;5;132;01m{\u001b[39;00mresults[\u001b[33m'\u001b[39m\u001b[33mbest_loss\u001b[39m\u001b[33m'\u001b[39m]\u001b[38;5;132;01m}\u001b[39;00m\u001b[33m\"\u001b[39m)\n",
      "\u001b[36mFile \u001b[39m\u001b[32m~/PyCont_release/examples/beam_spring/LNN/models/MDOF_LNN.py:295\u001b[39m, in \u001b[36mPhysical_Base_LNN.train\u001b[39m\u001b[34m(self, train_dataset, test_dataset, results, epochs, show_every)\u001b[39m\n\u001b[32m    293\u001b[39m \u001b[38;5;28;01mfor\u001b[39;00m train_batch \u001b[38;5;129;01min\u001b[39;00m train_batches(train_dataset):\n\u001b[32m    294\u001b[39m     batches += \u001b[32m1\u001b[39m\n\u001b[32m--> \u001b[39m\u001b[32m295\u001b[39m     mnn_params, knn_params, dnn_params, mnn_opt_state, knn_opt_state, dnn_opt_state, train_batch_loss = \u001b[38;5;28;43mself\u001b[39;49m\u001b[43m.\u001b[49m\u001b[43mtrain_step\u001b[49m\u001b[43m(\u001b[49m\n\u001b[32m    296\u001b[39m \u001b[43m        \u001b[49m\u001b[43mmnn_params\u001b[49m\u001b[43m,\u001b[49m\u001b[43m \u001b[49m\u001b[43mknn_params\u001b[49m\u001b[43m,\u001b[49m\u001b[43m \u001b[49m\u001b[43mdnn_params\u001b[49m\u001b[43m,\u001b[49m\u001b[43m \u001b[49m\u001b[43mmnn_opt_state\u001b[49m\u001b[43m,\u001b[49m\u001b[43m \u001b[49m\u001b[43mknn_opt_state\u001b[49m\u001b[43m,\u001b[49m\u001b[43m \u001b[49m\u001b[43mdnn_opt_state\u001b[49m\u001b[43m,\u001b[49m\u001b[43m \u001b[49m\u001b[43mtrain_batch\u001b[49m\u001b[43m,\u001b[49m\u001b[43m \u001b[49m\u001b[43mstep\u001b[49m\u001b[43m)\u001b[49m\n\u001b[32m    297\u001b[39m     train_epoch_loss += train_batch_loss\n\u001b[32m    299\u001b[39m train_epoch_loss /= (train_batch_size*batches)\n",
      "\u001b[36mFile \u001b[39m\u001b[32m~/PyCont_release/examples/beam_spring/LNN/models/MDOF_LNN.py:207\u001b[39m, in \u001b[36mPhysical_Base_LNN.train_step\u001b[39m\u001b[34m(self, mnn_params, knn_params, dnn_params, mnn_opt_state, knn_opt_state, dnn_opt_state, batch, count_idx)\u001b[39m\n\u001b[32m    205\u001b[39m \u001b[38;5;28;01mdef\u001b[39;00m\u001b[38;5;250m \u001b[39m\u001b[34mtrain_step\u001b[39m(\u001b[38;5;28mself\u001b[39m, mnn_params, knn_params, dnn_params, mnn_opt_state, knn_opt_state, dnn_opt_state, batch, count_idx):\n\u001b[32m    206\u001b[39m \u001b[38;5;250m    \u001b[39m\u001b[33;03m\"\"\"Define each training step\"\"\"\u001b[39;00m\n\u001b[32m--> \u001b[39m\u001b[32m207\u001b[39m     mnn_params, knn_params, dnn_params, mnn_opt_state, knn_opt_state, dnn_opt_state, loss_value = \u001b[38;5;28;43mself\u001b[39;49m\u001b[43m.\u001b[49m\u001b[43mupdate\u001b[49m\u001b[43m(\u001b[49m\n\u001b[32m    208\u001b[39m \u001b[43m        \u001b[49m\u001b[43mmnn_params\u001b[49m\u001b[43m,\u001b[49m\u001b[43m \u001b[49m\u001b[43mknn_params\u001b[49m\u001b[43m,\u001b[49m\u001b[43m \u001b[49m\u001b[43mdnn_params\u001b[49m\u001b[43m,\u001b[49m\u001b[43m \u001b[49m\u001b[43mmnn_opt_state\u001b[49m\u001b[43m,\u001b[49m\u001b[43m \u001b[49m\u001b[43mknn_opt_state\u001b[49m\u001b[43m,\u001b[49m\u001b[43m \u001b[49m\u001b[43mdnn_opt_state\u001b[49m\u001b[43m,\u001b[49m\u001b[43m \u001b[49m\u001b[43mbatch\u001b[49m\u001b[43m,\u001b[49m\u001b[43m \u001b[49m\u001b[43mcount_idx\u001b[49m\u001b[43m)\u001b[49m\n\u001b[32m    210\u001b[39m     \u001b[38;5;28;01mreturn\u001b[39;00m mnn_params, knn_params, dnn_params, mnn_opt_state, knn_opt_state, dnn_opt_state, loss_value\n",
      "    \u001b[31m[... skipping hidden 5 frame]\u001b[39m\n",
      "\u001b[36mFile \u001b[39m\u001b[32m~/PyCont_release/.lnn/lib/python3.11/site-packages/jax/_src/interpreters/pxla.py:1306\u001b[39m, in \u001b[36mExecuteReplicated.__call__\u001b[39m\u001b[34m(self, *args)\u001b[39m\n\u001b[32m   1304\u001b[39m   \u001b[38;5;28mself\u001b[39m._handle_token_bufs(result_token_bufs, sharded_runtime_token)\n\u001b[32m   1305\u001b[39m \u001b[38;5;28;01melse\u001b[39;00m:\n\u001b[32m-> \u001b[39m\u001b[32m1306\u001b[39m   results = \u001b[38;5;28;43mself\u001b[39;49m\u001b[43m.\u001b[49m\u001b[43mxla_executable\u001b[49m\u001b[43m.\u001b[49m\u001b[43mexecute_sharded\u001b[49m\u001b[43m(\u001b[49m\u001b[43minput_bufs\u001b[49m\u001b[43m)\u001b[49m\n\u001b[32m   1308\u001b[39m \u001b[38;5;28;01mif\u001b[39;00m dispatch.needs_check_special():\n\u001b[32m   1309\u001b[39m   out_arrays = results.disassemble_into_single_device_arrays()\n",
      "\u001b[31mXlaRuntimeError\u001b[39m: INTERNAL: jaxlib/gpu/solver_handle_pool.cc:37: operation gpusolverDnCreate(&handle) failed: cuSolver internal error"
     ]
    }
   ],
   "source": [
    "# Standard loss\n",
    "for _ in range(10):\n",
    "    results = a.train(train_data, test_data, results, epochs=epochs, show_every=show_every)\n",
    "    a.save_model(results, model_name=f\"Iter_{results['last_epoch']}\", folder_name=f\"{results_path}/{file_name}\")\n",
    "print(f\"Final loss: {results['best_loss']}\")"
   ]
  },
  {
   "cell_type": "code",
   "execution_count": null,
   "id": "2fc19d3b",
   "metadata": {},
   "outputs": [],
   "source": [
    "a.plot_results(results)"
   ]
  },
  {
   "cell_type": "code",
   "execution_count": null,
   "id": "1be6b8c7",
   "metadata": {},
   "outputs": [],
   "source": [
    "pred_acc_, pred_energy = a._predict(results)"
   ]
  },
  {
   "cell_type": "code",
   "execution_count": null,
   "id": "6419f956",
   "metadata": {},
   "outputs": [],
   "source": [
    "limq11, limq12, limqd11, limqd12 = info[\"q1min\"], info[\"q1max\"], info[\"qd1max\"], info[\"qd1min\"]\n",
    "limq21, limq22, limqd21, limqd22 = info[\"q2min\"], info[\"q2max\"], info[\"qd2max\"], info[\"qd2min\"]\n",
    "\n",
    "q1a, q1da = jnp.linspace(limq11, limq12, 100), jnp.linspace(\n",
    "    limqd11, limqd12, 100)\n",
    "q1aa, q1daa = jnp.meshgrid(q1a, q1da)\n",
    "\n",
    "q2a, q2da = jnp.linspace(limq21, limq22, 100), jnp.linspace(\n",
    "    limqd21, limqd22, 100)\n",
    "q2aa, q2daa = jnp.meshgrid(q2a, q2da)\n",
    "\n",
    "q1a.shape, q1da.shape, q1aa.shape, q1daa.shape, q2a.shape, q2da.shape, q2aa.shape, q2daa.shape"
   ]
  },
  {
   "cell_type": "code",
   "execution_count": null,
   "id": "3a21a105",
   "metadata": {},
   "outputs": [],
   "source": [
    "M, K, C = jax.vmap(pred_energy)(jnp.concatenate([q1aa.reshape(-1, 1), q2aa.reshape(-1, 1)], axis=1), jnp.concatenate([q1daa.reshape(-1, 1), q2daa.reshape(-1, 1)], axis=1))\n",
    "\n",
    "L = M - K\n",
    "M.shape, K.shape, C.shape, L.shape"
   ]
  },
  {
   "cell_type": "code",
   "execution_count": null,
   "id": "742e5faa",
   "metadata": {},
   "outputs": [],
   "source": [
    "fig = plt.figure(figsize=(12, 12), tight_layout=True)\n",
    "fig.suptitle(f\"Final Test Loss: {results['best_loss']:.3e}\")\n",
    "\n",
    "# --------------------------------- FUNCTIONS\n",
    "\n",
    "# -------------------------------- Lagrangian\n",
    "ax = fig.add_subplot(421, projection=\"3d\")\n",
    "m = ax.plot_surface(q1aa, q1daa, L[:, 0].reshape(q1aa.shape), cmap=\"RdGy\", lw=0)\n",
    "ax.set_xlabel(\"q\")\n",
    "ax.set_ylabel(r\"$\\dot{q}$\")\n",
    "ax.set_zlabel(r\"$\\mathcal{L}_{NN}$\", fontsize=16, labelpad=3)\n",
    "ax.set_title(f\"Mode 1 Lagrangian\")\n",
    "fig.colorbar(m, ax=ax, shrink=0.3, pad=0.1)\n",
    "\n",
    "ax = fig.add_subplot(422, projection=\"3d\")\n",
    "m = ax.plot_surface(q2aa, q2daa, L[:, 1].reshape(q2aa.shape), cmap=\"RdGy\", lw=0)\n",
    "ax.set_xlabel(\"q\")\n",
    "ax.set_ylabel(r\"$\\dot{q}$\")\n",
    "ax.set_zlabel(r\"$\\mathcal{L}_{NN}$\", fontsize=16, labelpad=3)\n",
    "ax.set_title(f\"Mode 2 Lagrangian\")\n",
    "fig.colorbar(m, ax=ax, shrink=0.3, pad=0.1)\n",
    "\n",
    "# ---------------------------------- Mass\n",
    "ax = fig.add_subplot(423, projection=\"3d\")\n",
    "m = ax.plot_surface(q1aa, q1daa, M[:, 0].reshape(q1aa.shape), cmap=\"PiYG\", lw=0)\n",
    "ax.set_xlabel(\"q\")\n",
    "ax.set_ylabel(r\"$\\dot{q}$\")\n",
    "ax.set_zlabel(r\"$\\mathcal{M}_{NN}$\", fontsize=16, labelpad=3)\n",
    "ax.set_title(\"Mode 1 Mass\")\n",
    "fig.colorbar(m, ax=ax, shrink=0.3, pad=0.1)\n",
    "\n",
    "ax = fig.add_subplot(424, projection=\"3d\")\n",
    "m = ax.plot_surface(q2aa, q2daa, M[:, 1].reshape(q2aa.shape), cmap=\"PiYG\", lw=0)\n",
    "ax.set_xlabel(\"q\")\n",
    "ax.set_ylabel(r\"$\\dot{q}$\")\n",
    "ax.set_zlabel(r\"$\\mathcal{M}_{NN}$\", fontsize=16, labelpad=3)\n",
    "ax.set_title(\"Mode 2 Mass\")\n",
    "fig.colorbar(m, ax=ax, shrink=0.3, pad=0.1)\n",
    "\n",
    "# ---------------------------------- Stiffness\n",
    "ax = fig.add_subplot(425, projection=\"3d\")\n",
    "m = ax.plot_surface(q1aa, q1daa, K[:, 0].reshape(q1aa.shape), cmap=\"PiYG\", lw=0)\n",
    "ax.set_xlabel(\"q\")\n",
    "ax.set_ylabel(r\"$\\dot{q}$\")\n",
    "ax.set_zlabel(r\"$\\mathcal{K}_{NN}$\", fontsize=16, labelpad=3)\n",
    "ax.set_title(\"Mode 1 Stiffness\")\n",
    "fig.colorbar(m, ax=ax, shrink=0.3, pad=0.1)\n",
    "\n",
    "ax = fig.add_subplot(426, projection=\"3d\")\n",
    "m = ax.plot_surface(q2aa, q2daa, K[:, 1].reshape(q2aa.shape), cmap=\"PiYG\", lw=0)\n",
    "ax.set_xlabel(\"q\")\n",
    "ax.set_ylabel(r\"$\\dot{q}$\")\n",
    "ax.set_zlabel(r\"$\\mathcal{K}_{NN}$\", fontsize=16, labelpad=3)\n",
    "ax.set_title(\"Mode 2 Stiffness\")\n",
    "fig.colorbar(m, ax=ax, shrink=0.3, pad=0.1)\n",
    "\n",
    "# ---------------------------------- Damping\n",
    "ax = fig.add_subplot(427, projection=\"3d\")\n",
    "m = ax.plot_surface(q1aa, q1daa, C[:, 0].reshape(q1aa.shape), cmap=\"PiYG\", lw=0)\n",
    "ax.set_xlabel(\"q\")\n",
    "ax.set_ylabel(r\"$\\dot{q}$\")\n",
    "ax.set_zlabel(r\"$\\mathcal{D}_{NN}$\", fontsize=16, labelpad=3)\n",
    "ax.set_title(\"Mode 1 Damping\")\n",
    "fig.colorbar(m, ax=ax, shrink=0.3, pad=0.1)\n",
    "\n",
    "ax = fig.add_subplot(428, projection=\"3d\")\n",
    "m = ax.plot_surface(q2aa, q2daa, C[:, 1].reshape(q2aa.shape), cmap=\"PiYG\", lw=0)\n",
    "ax.set_xlabel(\"q\")\n",
    "ax.set_ylabel(r\"$\\dot{q}$\")\n",
    "ax.set_zlabel(r\"$\\mathcal{D}_{NN}$\", fontsize=16, labelpad=3)\n",
    "ax.set_title(\"Mode 2 Damping\")\n",
    "fig.colorbar(m, ax=ax, shrink=0.3, pad=0.1)\n",
    "# fig.savefig(f\"./Modal_LNN/{file_name}-LD.png\")\n"
   ]
  },
  {
   "cell_type": "code",
   "execution_count": null,
   "id": "b5129949",
   "metadata": {},
   "outputs": [],
   "source": [
    "ddx = pred_acc_(test_x, test_f)\n",
    "ddx.shape, test_dx.shape"
   ]
  },
  {
   "cell_type": "code",
   "execution_count": null,
   "id": "9198deb7",
   "metadata": {},
   "outputs": [],
   "source": [
    "fig = plt.figure(figsize=(12, 12), tight_layout=True)\n",
    "fig.suptitle(f\"Final Test Loss: {results['best_loss']:.3e}\")\n",
    "\n",
    "ax = fig.add_subplot(211)\n",
    "ax.plot(ddx[:301*4, 0], label=\"LNN Mode 1\")\n",
    "ax.plot(test_dx[:301*4, 0, -1], label=\"Truth Mode 1\", linestyle='dashed')\n",
    "\n",
    "ax = fig.add_subplot(212)\n",
    "ax.plot(ddx[:301*4, 1], label=\"LNN Mode 2\")\n",
    "ax.plot(test_dx[:301*4, 1, -1], label=\"Truth Mode 2\", linestyle='dashed')\n",
    "\n",
    "plt.legend()"
   ]
  },
  {
   "cell_type": "code",
   "execution_count": null,
   "id": "caf11ad6",
   "metadata": {},
   "outputs": [],
   "source": [
    "fig = plt.figure(figsize=(12, 6), tight_layout=True)\n",
    "\n",
    "ax = fig.add_subplot(121)\n",
    "ax.plot(test_x[:301*20, 0, 0], test_x[:301*20, 0, 1], label=\"Mode 1\")\n",
    "ax.set_title(\"Mode 1 Orbits\")\n",
    "\n",
    "ax = fig.add_subplot(122)\n",
    "ax.plot(test_x[:301*20, 1, 0], test_x[:301*20, 1, 1], label=\"Mode 2\")\n",
    "ax.set_title(\"Mode 2 Orbits\")\n",
    "\n",
    "plt.legend()"
   ]
  }
 ],
 "metadata": {
  "kernelspec": {
   "display_name": ".lnn",
   "language": "python",
   "name": "python3"
  },
  "language_info": {
   "codemirror_mode": {
    "name": "ipython",
    "version": 3
   },
   "file_extension": ".py",
   "mimetype": "text/x-python",
   "name": "python",
   "nbconvert_exporter": "python",
   "pygments_lexer": "ipython3",
   "version": "3.11.5"
  }
 },
 "nbformat": 4,
 "nbformat_minor": 5
}
