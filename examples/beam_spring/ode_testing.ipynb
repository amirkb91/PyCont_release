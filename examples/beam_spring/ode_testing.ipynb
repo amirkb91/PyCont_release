{
 "cells": [
  {
   "cell_type": "code",
   "execution_count": null,
   "id": "7b1ba6b3",
   "metadata": {},
   "outputs": [
    {
     "name": "stderr",
     "output_type": "stream",
     "text": [
      "/tmp/ipykernel_1618482/2511633045.py:45: ODEintWarning: Excess work done on this call (perhaps wrong Dfun type). Run with full_output = 1 to get quantitative information.\n",
      "  Xsol = odeint(model_ode_anal, X0, t, args=(T, F), rtol=1e-8, tfirst=True)\n"
     ]
    },
    {
     "data": {
      "text/plain": [
       "array([[ 0.36862745],\n",
       "       [ 0.30980392],\n",
       "       [-0.36470588],\n",
       "       [ 0.        ]])"
      ]
     },
     "execution_count": 19,
     "metadata": {},
     "output_type": "execute_result"
    }
   ],
   "source": [
    "import scipy.linalg as spl\n",
    "import jax.numpy as jnp\n",
    "from scipy.integrate import odeint\n",
    "\n",
    "# Beam paremeters for 2 mode system\n",
    "k_nl = 4250000\n",
    "w_1 = 91.734505484821950\n",
    "w_2 = 3.066194429903638e02\n",
    "zeta_1 = 0.0\n",
    "zeta_2 = 0.0\n",
    "phi_L = jnp.array([[-7.382136522799137, 7.360826867549465]])\n",
    "\n",
    "# Modal Matrices\n",
    "M = jnp.eye(2)\n",
    "C = jnp.array([[2 * zeta_1 * w_1, 0], [0, 2 * zeta_2 * w_2]])\n",
    "K = jnp.array([[w_1**2, 0], [0, w_2**2]])\n",
    "Minv = spl.inv(M)\n",
    "\n",
    "def model_ode_anal(t, X, T, F):\n",
    "    # State equation of the mass spring system. Xdot(t) = g(X(t))\n",
    "    x = X[:2]\n",
    "    xdot = X[2:]\n",
    "    KX = K @ x\n",
    "    CXdot = C @ xdot\n",
    "    force = jnp.array([F * jnp.sin(2 * jnp.pi / T * t), 0])\n",
    "    phi_x = phi_L @ x  # Physical displacement at nonlinear location\n",
    "    fnl = k_nl * phi_L.T @ (phi_x**3)\n",
    "    Xdot = jnp.concatenate((xdot, Minv @ (-KX - CXdot - fnl + force)))\n",
    "    return Xdot\n",
    "\n",
    "def periodicity_anal(X0, T, F):\n",
    "    t = jnp.linspace(0, T, 10 + 1)\n",
    "    Xsol = odeint(model_ode_anal, X0, t, args=(T, F), rtol=1e-8, tfirst=True)\n",
    "    H = Xsol[-1, :] - Xsol[0, :]\n",
    "    return H.reshape(-1, 1)\n",
    "\n",
    "X0 = jnp.array([0.0, 0.0, 1.0, 1.0])\n",
    "T = 2.0\n",
    "F = 10.0\n",
    "\n",
    "periodicity_anal(X0, T, F)"
   ]
  },
  {
   "cell_type": "code",
   "execution_count": 30,
   "id": "b495de76",
   "metadata": {},
   "outputs": [
    {
     "data": {
      "text/plain": [
       "array([[-0.00490432],\n",
       "       [-0.00292757],\n",
       "       [-1.94054514],\n",
       "       [-1.08723555]])"
      ]
     },
     "execution_count": 30,
     "metadata": {},
     "output_type": "execute_result"
    }
   ],
   "source": [
    "import scipy.linalg as spl\n",
    "import jax.numpy as jnp\n",
    "from scipy.integrate import solve_ivp\n",
    "\n",
    "# Beam paremeters for 2 mode system\n",
    "k_nl = 4250000\n",
    "w_1 = 91.734505484821950\n",
    "w_2 = 3.066194429903638e02\n",
    "zeta_1 = 0.0\n",
    "zeta_2 = 0.0\n",
    "phi_L = jnp.array([[-7.382136522799137, 7.360826867549465]])\n",
    "\n",
    "# Modal Matrices\n",
    "M = jnp.eye(2)\n",
    "C = jnp.array([[2 * zeta_1 * w_1, 0], [0, 2 * zeta_2 * w_2]])\n",
    "K = jnp.array([[w_1**2, 0], [0, w_2**2]])\n",
    "Minv = spl.inv(M)\n",
    "\n",
    "def model_ode_anal(t, X, T, F):\n",
    "    # State equation of the mass spring system. Xdot(t) = g(X(t))\n",
    "    x = X[:2]\n",
    "    xdot = X[2:]\n",
    "    KX = K @ x\n",
    "    CXdot = C @ xdot\n",
    "    force = jnp.array([F * jnp.sin(2 * jnp.pi / T * t), 0])\n",
    "    phi_x = phi_L @ x  # Physical displacement at nonlinear location\n",
    "    fnl = k_nl * phi_L.T @ (phi_x**3)\n",
    "    Xdot = jnp.concatenate((xdot, Minv @ (-KX - CXdot - fnl + force)))\n",
    "    return Xdot\n",
    "\n",
    "def periodicity_anal(X0, T, F):\n",
    "    t = jnp.linspace(0, T, 10 + 1)\n",
    "    Xsol = solve_ivp(model_ode_anal, (t[0], t[-1]), X0, args=(T, F), t_eval=jnp.linspace(0, 2, 10 + 1), rtol=1e-8)\n",
    "    H = Xsol.y[:, -1] - Xsol.y[:, 0]\n",
    "    return H.reshape(-1, 1)\n",
    "\n",
    "X0 = jnp.array([0.0, 0.0, 1.0, 1.0])\n",
    "T = 2.0\n",
    "F = 10.0\n",
    "\n",
    "periodicity_anal(X0, T, F)"
   ]
  },
  {
   "cell_type": "code",
   "execution_count": null,
   "id": "0ad5dbb7",
   "metadata": {},
   "outputs": [
    {
     "data": {
      "text/plain": [
       "Array([[-0.00528779],\n",
       "       [-0.00311958],\n",
       "       [-1.8358393 ],\n",
       "       [-0.9015873 ]], dtype=float32)"
      ]
     },
     "execution_count": 29,
     "metadata": {},
     "output_type": "execute_result"
    }
   ],
   "source": [
    "import scipy.linalg as spl\n",
    "import jax.numpy as jnp\n",
    "import jax.experimental.ode as jode\n",
    "\n",
    "# Beam paremeters for 2 mode system\n",
    "k_nl = 4250000\n",
    "w_1 = 91.734505484821950\n",
    "w_2 = 3.066194429903638e02\n",
    "zeta_1 = 0.0\n",
    "zeta_2 = 0.0\n",
    "phi_L = jnp.array([[-7.382136522799137, 7.360826867549465]])\n",
    "\n",
    "# Modal Matrices\n",
    "M = jnp.eye(2)\n",
    "C = jnp.array([[2 * zeta_1 * w_1, 0], [0, 2 * zeta_2 * w_2]])\n",
    "K = jnp.array([[w_1**2, 0], [0, w_2**2]])\n",
    "Minv = spl.inv(M)\n",
    "\n",
    "def model_ode_anal(X, t, T, F):\n",
    "    # State equation of the mass spring system. Xdot(t) = g(X(t))\n",
    "    x = X[:2]\n",
    "    xdot = X[2:]\n",
    "    KX = K @ x\n",
    "    CXdot = C @ xdot\n",
    "    force = jnp.array([F * jnp.sin(2 * jnp.pi / T * t), 0])\n",
    "    phi_x = phi_L @ x  # Physical displacement at nonlinear location\n",
    "    fnl = k_nl * phi_L.T @ (phi_x**3)\n",
    "    Xdot = jnp.concatenate((xdot, Minv @ (-KX - CXdot - fnl + force)))\n",
    "    return Xdot\n",
    "\n",
    "def periodicity_anal(X0, T, F):\n",
    "    t = jnp.linspace(0, T, 10 + 1)\n",
    "    Xsol = jode.odeint(model_ode_anal, X0, t, T, F, rtol=1e-8)\n",
    "\n",
    "    H = Xsol[-1, :] - Xsol[0, :]\n",
    "    return H.reshape(-1, 1)\n",
    "\n",
    "X0 = jnp.array([0.0, 0.0, 1.0, 1.0])\n",
    "T = 2.0\n",
    "F = 10.0\n",
    "\n",
    "periodicity_anal(X0, T, F)"
   ]
  },
  {
   "cell_type": "code",
   "execution_count": null,
   "id": "7e7eb0db",
   "metadata": {},
   "outputs": [
    {
     "data": {
      "text/plain": [
       "Array([[-0.00473348],\n",
       "       [-0.0035218 ],\n",
       "       [-1.7558949 ],\n",
       "       [-1.2415923 ]], dtype=float32)"
      ]
     },
     "execution_count": 22,
     "metadata": {},
     "output_type": "execute_result"
    }
   ],
   "source": [
    "import scipy.linalg as spl\n",
    "import jax\n",
    "import jax.numpy as jnp\n",
    "from diffrax import diffeqsolve, ODETerm, Tsit5, SaveAt, PIDController\n",
    "\n",
    "# Beam paremeters for 2 mode system\n",
    "k_nl = 4250000\n",
    "w_1 = 91.734505484821950\n",
    "w_2 = 3.066194429903638e02\n",
    "zeta_1 = 0.0\n",
    "zeta_2 = 0.0\n",
    "phi_L = jnp.array([[-7.382136522799137, 7.360826867549465]])\n",
    "\n",
    "# Modal Matrices\n",
    "M = jnp.eye(2)\n",
    "C = jnp.array([[2 * zeta_1 * w_1, 0], [0, 2 * zeta_2 * w_2]])\n",
    "K = jnp.array([[w_1**2, 0], [0, w_2**2]])\n",
    "Minv = spl.inv(M)\n",
    "\n",
    "def model_ode_anal(t, X, args):\n",
    "    T, F = args\n",
    "    # State equation of the mass spring system. Xdot(t) = g(X(t))\n",
    "    x = X[:2]\n",
    "    xdot = X[2:]\n",
    "    KX = K @ x\n",
    "    CXdot = C @ xdot\n",
    "    force = jnp.array([F * jnp.sin(2 * jnp.pi / T * t), 0])\n",
    "    phi_x = phi_L @ x  # Physical displacement at nonlinear location\n",
    "    fnl = k_nl * phi_L.T @ (phi_x**3)\n",
    "    Xdot = jnp.concatenate((xdot, Minv @ (-KX - CXdot - fnl + force)))\n",
    "    return Xdot\n",
    "\n",
    "term=ODETerm(model_ode_anal)\n",
    "solver=Tsit5()\n",
    "saveat = SaveAt(ts=jnp.linspace(0, 2, 10 + 1))\n",
    "\n",
    "def periodicity_anal(X0, T, F):\n",
    "    t = jnp.linspace(0, T, 10 + 1)\n",
    "    Xsol = diffeqsolve(term, solver, t0=t[0], t1=t[-1], dt0=0.2, y0=X0, args=(T, F), saveat=saveat, stepsize_controller=PIDController(rtol=1e-8, atol=1e-8),max_steps=None)\n",
    "\n",
    "    H = Xsol.ys[-1, :] - Xsol.ys[0, :]\n",
    "    return H.reshape(-1, 1)\n",
    "\n",
    "X0 = jnp.array([0.0, 0.0, 1.0, 1.0])\n",
    "T = 2.0\n",
    "F = 10.0\n",
    "\n",
    "periodicity_anal(X0, T, F)"
   ]
  }
 ],
 "metadata": {
  "kernelspec": {
   "display_name": ".lnn",
   "language": "python",
   "name": "python3"
  },
  "language_info": {
   "codemirror_mode": {
    "name": "ipython",
    "version": 3
   },
   "file_extension": ".py",
   "mimetype": "text/x-python",
   "name": "python",
   "nbconvert_exporter": "python",
   "pygments_lexer": "ipython3",
   "version": "3.11.5"
  }
 },
 "nbformat": 4,
 "nbformat_minor": 5
}
