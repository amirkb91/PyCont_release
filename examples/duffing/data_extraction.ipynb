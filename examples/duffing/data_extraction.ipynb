{
 "cells": [
  {
   "cell_type": "code",
   "execution_count": null,
   "metadata": {},
   "outputs": [],
   "source": [
    "# Import necessary packages\n",
    "import numpy as np\n",
    "import matplotlib.pyplot as plt\n",
    "\n",
    "from helpers import generate_data, plot_sols, train_test_data, data_to_dict"
   ]
  },
  {
   "cell_type": "code",
   "execution_count": null,
   "metadata": {},
   "outputs": [],
   "source": [
    "# Generate continuation data\n",
    "# generate_data('contparameters.json', 0.1, 1.0, 0.1, 0.5, 0.05)"
   ]
  },
  {
   "cell_type": "code",
   "execution_count": null,
   "metadata": {},
   "outputs": [],
   "source": [
    "data = data_to_dict(10)"
   ]
  },
  {
   "cell_type": "code",
   "execution_count": null,
   "metadata": {},
   "outputs": [],
   "source": [
    "FRF1 = data['FRF1']"
   ]
  },
  {
   "cell_type": "code",
   "execution_count": null,
   "metadata": {},
   "outputs": [],
   "source": [
    "data.keys()"
   ]
  },
  {
   "cell_type": "markdown",
   "metadata": {},
   "source": [
    "#### Periodic Solutions && NLFR Curve"
   ]
  },
  {
   "cell_type": "code",
   "execution_count": null,
   "metadata": {},
   "outputs": [],
   "source": [
    "data = plot_sols('FRF1')"
   ]
  },
  {
   "cell_type": "markdown",
   "metadata": {},
   "source": [
    "#### Example of Position, Velocity and Acceleration progression"
   ]
  },
  {
   "cell_type": "code",
   "execution_count": null,
   "metadata": {},
   "outputs": [],
   "source": [
    "fig, ax = plt.subplots(2, 2, figsize=(10, 5))\n",
    "\n",
    "ax[0, 0].set_title('Position', fontsize=10)\n",
    "ax[0, 0].plot(data['time'][:, 0], data['pose'][:, 0])\n",
    "ax[0, 0].set_xlabel(r'$t$')\n",
    "ax[0, 0].set_ylabel(r'${x}$')\n",
    "\n",
    "ax[0, 1].set_title('Velocity', fontsize=10)\n",
    "ax[0, 1].plot(data['time'][:, 0], data['vel'][:, 0])\n",
    "ax[0, 1].set_xlabel(r'$t$')\n",
    "ax[0, 1].set_ylabel(r'$\\dot{x}$')\n",
    "\n",
    "ax[1, 0].set_title('Acceleration', fontsize=10)\n",
    "ax[1, 0].plot(data['time'][:, 0], data['acc'][:, 0])\n",
    "ax[1, 0].set_xlabel(r'$t$')\n",
    "ax[1, 0].set_ylabel(r'$\\ddot{x}$')\n",
    "\n",
    "fig.tight_layout()"
   ]
  },
  {
   "cell_type": "code",
   "execution_count": null,
   "metadata": {},
   "outputs": [],
   "source": [
    "data['time'].shape"
   ]
  }
 ],
 "metadata": {
  "kernelspec": {
   "display_name": ".duffing",
   "language": "python",
   "name": "python3"
  },
  "language_info": {
   "codemirror_mode": {
    "name": "ipython",
    "version": 3
   },
   "file_extension": ".py",
   "mimetype": "text/x-python",
   "name": "python",
   "nbconvert_exporter": "python",
   "pygments_lexer": "ipython3",
   "version": "3.11.5"
  }
 },
 "nbformat": 4,
 "nbformat_minor": 2
}
